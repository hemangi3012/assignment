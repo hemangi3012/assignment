{
 "cells": [
  {
   "cell_type": "markdown",
   "id": "9ba98c1b-f9d4-4c57-b24b-2e3db65db946",
   "metadata": {},
   "source": [
    "Q1. Create a vehicle class with an init method having instance variable as name_of_vehicle,max_speed and average_of_vehicle."
   ]
  },
  {
   "cell_type": "code",
   "execution_count": null,
   "id": "eb925f76-1b65-4a05-81bd-e9343363ade7",
   "metadata": {},
   "outputs": [],
   "source": [
    "Ans- \n",
    "     class Vehicle:\n",
    "        def __init__(self, name_of_vehicle, max_speed, average_of_vehicle):\n",
    "            self.name_of_vehicle = name_of_vehicle\n",
    "            self.max_speed = max_speed\n",
    "            self.average_of_vehicle = average_of_vehicle\n",
    "            \n",
    "        car = Vehicle(\"Car\", 180, 20)\n",
    "        print(\"Name of vehicle:\", car.name_of_vehicle)\n",
    "        print(\"Max speed:\", car.max_speed)\n",
    "        print(\"Average of vehicle:\", car.average_of_vehicle)\n",
    "        \n",
    "        \n",
    "    output-\n",
    "         Name of vehicle: Car\n",
    "          Max speed: 180\n",
    "            Average of vehicle: 20"
   ]
  },
  {
   "cell_type": "markdown",
   "id": "8ddd50e1-7350-4e76-b586-a4309c02c0f6",
   "metadata": {},
   "source": [
    "Q2. Create a child class car from the vehicle class created in Que 1, which will inherit the vehicle class.\n",
    "Create a method named seating_capacity which takes capacity as an argument and returns the name of the vehicle and its seating capacity."
   ]
  },
  {
   "cell_type": "code",
   "execution_count": null,
   "id": "68fa3fbd-3019-495c-9274-b8b6da031e8e",
   "metadata": {},
   "outputs": [],
   "source": [
    "Ans- class Car(Vehicle): def init(self, name, make,model,year,weight): self.name = name self.make = make self.model = model self.year = year self.weight =weight\n",
    "\n",
    "class Car(Vehicle):\n",
    "     def __init__(self, name, make, model, year, weight,num_doors):\n",
    "        Vehicle.__init__(self, name, make, model, year, weight)\n",
    "        self.num_doors = num_doors\n",
    "\n",
    "    def seating_capacity(self, capacity):\n",
    "        return f\"{self.name} has a seating capacity of {capacity}.\"\n",
    "\n",
    "        car = car(\"sedan\", \"Toyota\", \"Camry\", 2020,3000, 4)\n",
    "        print(car.sating_capacity(5))\n",
    "\n",
    "        This outputs- \n",
    "                      Sedan has a seating capacity of 5.\n",
    "            \n",
    "            \n",
    "            \n"
   ]
  },
  {
   "cell_type": "markdown",
   "id": "c9264b51-0f55-4475-a13d-e66d5c9c4621",
   "metadata": {},
   "source": [
    "Q3. "
   ]
  },
  {
   "cell_type": "code",
   "execution_count": null,
   "id": "fc94b212-b897-479c-8071-022225debf46",
   "metadata": {},
   "outputs": [],
   "source": [
    "For example -\n",
    "               class Person:\n",
    "                    def __init__(self, name, age):\n",
    "                         self.name = name\n",
    "                        self.age = age\n",
    "                        \n",
    "                    def display_person_info(self):\n",
    "                          print(\"Employee ID:\", self.employee_id)\n",
    "                            print(\"Salary:\", self.salary)\n",
    "                            \n",
    "                    class Employee:\n",
    "                        def __init__(self, employee_id, salary):\n",
    "                            self.employee_id  - employee_id\n",
    "                            self.salary = salary\n",
    "                            \n",
    "                        def display_employee_info(self):\n",
    "                            print(\"Employee ID:\", self.employee_id)\n",
    "                            print(\"Salary:\", self.salary)\n",
    "                \n",
    "            class Manager(Person, Employee):\n",
    "                def __init__(self, name, age, employee_id, salary, department):\n",
    "                    Person.__init__(self, name, age)\n",
    "                    Employee.__init__(self, employee_id, salary)\n",
    "                    self.department = department\n",
    "                    \n",
    "            def display_manager_info(self):\n",
    "                Person.display_person_info(self)\n",
    "                Employee.display_employee_info(self)\n",
    "                print(\"Department:\" self.department)\n",
    "                \n",
    "                manager = manager(\"John Doe\", 35, 12345, 50000, \"IT\")\n",
    "                manager.display_manager_info()\n",
    "                \n",
    "        output-\n",
    "                Name: John Doe\n",
    "                Age: 35\n",
    "                Employee ID: 12345\n",
    "                Salary: 50000\n",
    "                Department: IT"
   ]
  },
  {
   "cell_type": "markdown",
   "id": "27969b8c-fca6-45dd-83a6-ea347bc49dec",
   "metadata": {},
   "source": [
    "Q4.What are getter and setter in python? Create a class and create a getter and a setter method in this class."
   ]
  },
  {
   "cell_type": "code",
   "execution_count": null,
   "id": "a9a0472b-8d76-4af2-9277-a8dd71741476",
   "metadata": {},
   "outputs": [],
   "source": [
    "Ans-\n",
    "       Getter and setter are methods that allows you to access and modify the values of the private attributes of a class.They provides a way to control access of the object's properties, ensuring that the properties are accessed or modified in a controlled and consistent way.\n",
    "    \n",
    "    In python,you can define getter and setter methods using the '@property' and '@<property_name>.setter' decorators,respectively.\n",
    "    for example -\n",
    "                   class Temperature:\n",
    "            \n",
    "               def __init__self(self, temperature):\n",
    "                    self._temperature = temperature\n",
    "                \n",
    "               @property     \n",
    "                def temperature(self):\n",
    "                    return self._temperature\n",
    "                    \n",
    "                @temperature.setter\n",
    "                def temperature(self, value):\n",
    "                    if value < -273.15:\n",
    "                        raise ValueError(\"Temperature below absolute zero\")\n",
    "                        self._temperature = value\n",
    "                        \n",
    "           temp = Temperature(20)\n",
    "        print(\"Temperature:\", temp.temperature)\n",
    "        \n",
    "           temp.temperature = 25\n",
    "            print(\"Temperature:\" , temp.temperature)\n",
    "            \n",
    "            Output:\n",
    "                    Temperature: 20\n",
    "                    Temperature: 25"
   ]
  },
  {
   "cell_type": "markdown",
   "id": "1daa51be-cf9f-44e8-a5d4-fce373b854d1",
   "metadata": {},
   "source": [
    "Q5.What is method overriding in python?Write a python code to demonstrate method overriding."
   ]
  },
  {
   "cell_type": "code",
   "execution_count": null,
   "id": "1debc0e7-64c4-4001-89cf-8276ff1c91c8",
   "metadata": {},
   "outputs": [],
   "source": [
    "Ans-\n",
    "     Method overriding is a feature of object-oriented programming languages where a subclass can provide a new implementation of a method that is already defined in its parent class. The new implementation in the subclass will override the behaviour of the method in the parent class. This allows a subclass to inherits the attributes and methods of its parent class. This aalows a subclass to inherits the zttributes and methods of its parent class and then customize their behaviour as needed.\n",
    "    \n",
    "    for example-\n",
    "               class Shape:\n",
    "                   def area(self):\n",
    "                     pass\n",
    "                    \n",
    "                class Rectangle(Shape):\n",
    "                    def __init__(self, width, height):\n",
    "                        self.width = width\n",
    "                        self.height = height\n",
    "                        \n",
    "                    def area(self):\n",
    "                        return self.width * self.height\n",
    "                \n",
    "                class Circle(Shape):\n",
    "                    def __init__(self, radius):\n",
    "                        self.radius = radius\n",
    "                        \n",
    "                    def area(self):\n",
    "                        return 3.14 * self.radius * self.radius\n",
    "                    \n",
    "                    rect = Rectangle(10, 20)\n",
    "                    print(\"Area of Rectangle:\", rect.area())\n",
    "                    \n",
    "                    circle = Circle(5)\n",
    "                    print(\"Area of Circle:\", circle.area())\n",
    "                    \n",
    "                    \n",
    "                    output:\n",
    "                        Area of Rectangle: 200\n",
    "                        Area of Circle: 78.5"
   ]
  }
 ],
 "metadata": {
  "kernelspec": {
   "display_name": "Python 3 (ipykernel)",
   "language": "python",
   "name": "python3"
  },
  "language_info": {
   "codemirror_mode": {
    "name": "ipython",
    "version": 3
   },
   "file_extension": ".py",
   "mimetype": "text/x-python",
   "name": "python",
   "nbconvert_exporter": "python",
   "pygments_lexer": "ipython3",
   "version": "3.10.8"
  }
 },
 "nbformat": 4,
 "nbformat_minor": 5
}
