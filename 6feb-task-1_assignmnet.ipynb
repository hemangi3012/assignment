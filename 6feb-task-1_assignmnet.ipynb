{
 "cells": [
  {
   "cell_type": "markdown",
   "id": "81b64d68-21a8-49ae-a070-b749243c95a0",
   "metadata": {},
   "source": [
    "1.Create a function which will take a list as an argument and return the product of all the numbers after creating a flat list.\n",
    "Use the below-given list as an argument for yout function.\n",
    "\n",
    "list1 = [1,2,3,4,[44,55,66,True],false,(34,56,78,89,34),{1,2,3,3,2,1},{1:34,\"key2\":[55,67,78,89],4:(45,22,61,34)},[56,'data science'],Machine Learning]\n",
    "\n",
    "Note: You  must extract numeric keys and values of the dictionary also.\n"
   ]
  },
  {
   "cell_type": "code",
   "execution_count": 6,
   "id": "260e1cc6-69c3-4f42-bb0a-5fd4ec1f3bef",
   "metadata": {},
   "outputs": [
    {
     "ename": "IndentationError",
     "evalue": "unindent does not match any outer indentation level (<tokenize>, line 6)",
     "output_type": "error",
     "traceback": [
      "\u001b[0;36m  File \u001b[0;32m<tokenize>:6\u001b[0;36m\u001b[0m\n\u001b[0;31m    isinstance(item flat_list.append(item)\u001b[0m\n\u001b[0m    ^\u001b[0m\n\u001b[0;31mIndentationError\u001b[0m\u001b[0;31m:\u001b[0m unindent does not match any outer indentation level\n"
     ]
    }
   ],
   "source": [
    " def flatten_and_multiply(1st):\n",
    "          flat_list = []\n",
    "            for item in 1st:\n",
    "                if isinstance(item, int) or isinstance(item, float):\n",
    "                    \n",
    "    isinstance(item flat_list.append(item)\n",
    "                    elif isinstance(item,tuple) or isinstance(item, list):\n",
    "                        flat_list.extend(flatten_and_multiply(item))\n",
    "                    elif isinstance(item, dict):\n",
    "                      for key, value in item.item():\n",
    "               if isinstance(key, int) or isinstance(key, float):\n",
    "                   flat_list.append(key)\n",
    "               if isinstance(value, int) or isinstance(value, float):\n",
    "                   flat_list.append(value)\n",
    "               elif isinstance(value, tuple) or isinstance(value, list):\n",
    "                  flat_list.extend(flatten_and_multiply(value))\n",
    "               \n",
    "            return 1 if len(flat_list) == 0 else reduce(lambda x, y: x * y, flat_list)\n",
    "    "
   ]
  },
  {
   "cell_type": "markdown",
   "id": "70a2176e-31ae-4bbf-a40a-fb9257d0f0d2",
   "metadata": {},
   "source": [
    "2.Write a python program for encrypting a messages sent to you by your friend. The logic of encryprtion should be such that,for a the output should be z.for b,the output should be y.for c,the output should be x respectively.Also the whitespace should be replaced with a dollar sign.keep the punctuation marks unchanged.\n",
    "\n",
    "Input sentences:I want to become a Data Scientist.\n",
    "\n",
    "Encrypt the above input sentence using the program you just created.\n",
    "\n",
    "Note:convert the given input sentences inti lowercase before encrypting.The final should be lowercase.\n",
    "\n",
    "Ans-"
   ]
  },
  {
   "cell_type": "code",
   "execution_count": null,
   "id": "5869cc88-4391-45b4-8efc-9c790be226d3",
   "metadata": {},
   "outputs": [],
   "source": [
    "     def encrypt(text):\n",
    "          text = text.lower()\n",
    "            encrypt_text = \"\"\n",
    "              for char in text:\n",
    "                if char == \" \":\n",
    "                     encrypt_text += \"$\"\n",
    "                elif char.isalpha():\n",
    "                     encrypt_text += char(122 - ord(char) + 97)\n",
    "                else:\n",
    "                    encrypt_text += char\n",
    "                return encrypt_text\n",
    "                \n",
    "                text = \"I want to become a Data Scientist.\"\n",
    "                encrypted_text = encrypt(text)\n",
    "                print(encrypted_text)\n",
    "                \n",
    "      "
   ]
  }
 ],
 "metadata": {
  "kernelspec": {
   "display_name": "Python 3 (ipykernel)",
   "language": "python",
   "name": "python3"
  },
  "language_info": {
   "codemirror_mode": {
    "name": "ipython",
    "version": 3
   },
   "file_extension": ".py",
   "mimetype": "text/x-python",
   "name": "python",
   "nbconvert_exporter": "python",
   "pygments_lexer": "ipython3",
   "version": "3.10.8"
  }
 },
 "nbformat": 4,
 "nbformat_minor": 5
}
