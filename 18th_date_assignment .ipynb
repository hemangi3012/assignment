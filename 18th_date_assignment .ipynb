{
 "cells": [
  {
   "cell_type": "markdown",
   "id": "653c8ae9-097f-4fc6-b22f-20fec1936242",
   "metadata": {},
   "source": [
    "Q1. What is an API? Give an example, where an API is used in real life."
   ]
  },
  {
   "cell_type": "markdown",
   "id": "d534eb0e-8091-4a87-b0a5-1cf0f02a72cb",
   "metadata": {},
   "source": [
    "APIs are mechanisms that enable two software components to communicate with each other using a set of definitions and protocols.\n",
    "\n",
    "For example, the weather bureau’s software system contains daily weather data. The weather app on your phone “talks” to this system via APIs and shows you daily weather updates on your phone.\n",
    "* use in real life := \n",
    "Ever used PayPal to pay for something, directly within an eCommerce store? Yep, that’s also an API at work. Just like with logging-in using a social media service, the “Pay with PayPal” functionality is built with APIs to ensure that the end application can only do what it needs to, without being exposed to sensitive data or gaining access to unintended permissions.\n",
    "\n",
    "In terms of the inner-workings of this handy function, it’s very similar to the log-in process described above. When the user clicks the “Pay with PayPal” button, the application sends an “order” request to the PayPal API, specifying the amount owed and other important details. Then, a pop-up authenticates the user and confirms their purchase. Finally, if everything goes to plan, the API sends confirmation of payment back to the application."
   ]
  },
  {
   "cell_type": "markdown",
   "id": "502a2ed4-fe01-4c3a-ab74-ee485bc2d4c4",
   "metadata": {},
   "source": [
    "Q2. Give advantages and disadvantages of using API."
   ]
  },
  {
   "cell_type": "markdown",
   "id": "5747e2b6-5688-406a-b4b6-0401b27850c3",
   "metadata": {},
   "source": [
    "*advantages := \n",
    "Applications: Access to APIs ensures more flexibility in information-transfer processes.\n",
    "Reach: APIs let you create layers in apps in order to distribute information to different audiences.\n",
    "Customization: Furthermore, it can serve as a solution to create different experiences for users, letting protocols, functions, and commands be adapted according to specific demands.\n",
    "Efficiency: When you have content that is automatically published and made available on different channels simultaneously, APIs allow for more efficient data distribution.\n",
    "Adaptability: One of the greatest benefits of APIs is the ability it has to adapt to changes through data migration and flexibility of services.\n",
    "\n",
    "*disavdantage := \n",
    "Creating API is a very time-consuming process\n",
    "A fixed scale is necessary\n",
    "Imprecise boundary delineation\n",
    "To create API, programming knowledge is necessary\n",
    "Maintenance cost is very high\n",
    "It can crash when testing API"
   ]
  },
  {
   "cell_type": "markdown",
   "id": "8641edbe-977d-421e-9958-f327e6dccfe5",
   "metadata": {},
   "source": [
    " Q3. What is a Web API? Differentiate between API and Web API."
   ]
  },
  {
   "cell_type": "markdown",
   "id": "9c9c5be0-145c-438e-aad7-45726dee44b4",
   "metadata": {},
   "source": [
    "A Web API or Web Service API is an application processing interface between a web server and web browser. All web services are APIs but not all APIs are web services. REST API is a special type of Web API that uses the standard architectural style explained above.\n",
    "\n",
    "The different terms around APIs, like Java API or service APIs, exist because historically, APIs were created before the world wide web. Modern web APIs are REST APIs and the terms can be used interchangeably."
   ]
  },
  {
   "cell_type": "markdown",
   "id": "50360b96-091d-4741-82e6-ece1061059ec",
   "metadata": {},
   "source": [
    "Q4. Explain REST and SOAP Architecture. Mention shortcomings of SOAP."
   ]
  },
  {
   "cell_type": "markdown",
   "id": "681e07c3-7a19-4bd4-920c-3a333c675d9c",
   "metadata": {},
   "source": [
    "REST stands for Representational State Transfer. REST defines a set of functions like GET, PUT, DELETE, etc. that clients can use to access server data. Clients and servers exchange data using HTTP.\n",
    "\n",
    "The main feature of REST API is statelessness. Statelessness means that servers do not save client data between requests. Client requests to the server are similar to URLs you type in your browser to visit a website. The response from the server is plain data, without the typical graphical rendering of a web page.\n",
    "\n",
    "\n",
    "SOAP is the Simple Object Access Protocol, a messaging standard defined by the World Wide Web Consortium and its member editors. SOAP uses an XML data format to declare its request and response messages, relying on XML Schema and other technologies to enforce the structure of its payloads.\n",
    "*sortcoming := \n",
    "Resource-consuming. Due to the larger size of an XML-file and a payload created by the massive structure of a message, a SOAP API requires a larger bandwidth. Sometimes, this trade-off isn’t worth dealing with. Simply put, it’s slow to process these strings of tags that XML messages abound with.\n",
    "\n",
    "Hard learning curve. Being protocol-based, building SOAP API servers requires knowledge and understanding of all protocols you may use with it. Developers dealing with building these types of APIs should dive deep into all processes inside the protocol with its highly restricted rules.\n",
    "\n",
    "Lacks flexibility. We’ve mentioned that a SOAP API serves as a strict contract between a client and a server. With this in mind, this rigid SOAP schema requires additional effort to add or remove the message properties on both sides of the communication, the server and the client. It makes updating requests and responses a tedious process and slows down adoption."
   ]
  },
  {
   "cell_type": "markdown",
   "id": "b268b147-9f9d-4439-8b54-c9866a333d6e",
   "metadata": {},
   "source": [
    "Q5. Differentiate between REST and SOAP."
   ]
  },
  {
   "cell_type": "markdown",
   "id": "a428cea4-50e8-47a7-9b25-f67b35d599d2",
   "metadata": {},
   "source": [
    "Key Difference Between SOAP and REST API\n",
    "SOAP stands for Simple Object Access Protocol whereas REST stands for Representational State Transfer.\n",
    "SOAP is a protocol whereas REST is an architectural pattern.\n",
    "SOAP uses service interfaces to expose its functionality to client applications while REST uses Uniform Service locators to access to the components on the hardware device.\n",
    "SOAP needs more bandwidth for its usage whereas REST doesn’t need much bandwidth.\n",
    "Comparing SOAP vs REST API, SOAP only works with XML formats whereas REST work with plain text, XML, HTML and JSON.\n",
    "SOAP cannot make use of REST whereas REST can make use of SOAP."
   ]
  }
 ],
 "metadata": {
  "kernelspec": {
   "display_name": "Python 3 (ipykernel)",
   "language": "python",
   "name": "python3"
  },
  "language_info": {
   "codemirror_mode": {
    "name": "ipython",
    "version": 3
   },
   "file_extension": ".py",
   "mimetype": "text/x-python",
   "name": "python",
   "nbconvert_exporter": "python",
   "pygments_lexer": "ipython3",
   "version": "3.10.8"
  }
 },
 "nbformat": 4,
 "nbformat_minor": 5
}
