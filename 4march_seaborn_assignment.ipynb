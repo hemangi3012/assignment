{
 "cells": [
  {
   "cell_type": "markdown",
   "id": "982cb44b-4a9b-4ad8-9a1c-990edb4173f0",
   "metadata": {},
   "source": [
    "Q1. Load the \"titanic\" dataset using the load_dataset function of seaborn. Use Plotly express to plot a\n",
    "scatter plot for age and fare columns in the titanic dataset."
   ]
  },
  {
   "cell_type": "markdown",
   "id": "f292846e-d22a-4952-b650-2a58ecae4ca5",
   "metadata": {},
   "source": [
    "Ans- \n",
    "    Here's the code to load the \"titanic\" dataset using seaborn and create a scatter plot for the \"age\" and \"fare\" columns using Plotly Express:\n",
    "      \n",
    "import seaborn as sns\n",
    "import plotly.express as px\n",
    "\n",
    "# Load the titanic dataset from seaborn\n",
    "titanic_df = sns.load_dataset('titanic')\n",
    "\n",
    "# Create a scatter plot using Plotly Express\n",
    "fig = px.scatter(titanic_df, x='age', y='fare')\n",
    "\n",
    "# Show the plot\n",
    "fig.show()\n",
    "\n",
    "This code first loads the \"titanic\" dataset using the sns.load_dataset function from Seaborn. Then, it creates a scatter plot using the px.scatter function from Plotly Express, specifying the \"age\" column as the x-axis and the \"fare\" column as the y-axis. Finally, it displays the plot using the fig.show() method.\n",
    "        "
   ]
  },
  {
   "cell_type": "markdown",
   "id": "fda9df75-ee59-4fc6-90d0-75a8c23db061",
   "metadata": {},
   "source": [
    "Q2. Using the tips dataset in the Plotly library, plot a box plot using Plotly express."
   ]
  },
  {
   "cell_type": "markdown",
   "id": "b385f780-4af0-40cf-8717-27c9f918fdee",
   "metadata": {},
   "source": [
    "Ans-\n",
    "     Here's the code to load the \"tips\" dataset from Plotly Express and create a box plot:\n",
    "        \n",
    "import plotly.express as px\n",
    "\n",
    "# Load the tips dataset from Plotly Express\n",
    "tips_df = px.data.tips()\n",
    "\n",
    "# Create a box plot using Plotly Express\n",
    "fig = px.box(tips_df, x='day', y='total_bill')\n",
    "\n",
    "# Show the plot\n",
    "fig.show()\n",
    "\n",
    "This code first loads the \"tips\" dataset using the px.data.tips() function from Plotly Express. Then, it creates a box plot using the px.box function, spec"
   ]
  },
  {
   "cell_type": "markdown",
   "id": "0d0542d6-9f24-4ae5-a753-f7f4ab6c6c37",
   "metadata": {},
   "source": [
    "Q.3 Using the tips dataset in the Plotly library, Plot a histogram for x= \"sex\" and y=\"total_bill\" column in\n",
    "the tips dataset. Also, use the \"smoker\" column with the pattern_shape parameter and the \"day\"\n",
    "column with the color parameter."
   ]
  },
  {
   "cell_type": "markdown",
   "id": "97db3639-c02f-445c-9100-150493f04d46",
   "metadata": {},
   "source": [
    "Ans-\n",
    "    Here's the code to load the \"tips\" dataset from Plotly Express and create a histogram plot with additional parameters:\n",
    "\n",
    "import plotly.express as px\n",
    "\n",
    "# Load the tips dataset from Plotly Express\n",
    "tips_df = px.data.tips()\n",
    "\n",
    "# Create a histogram plot using Plotly Express\n",
    "fig = px.histogram(tips_df, x='sex', y='total_bill', color='day', pattern_shape='smoker')\n",
    "\n",
    "# Show the plot\n",
    "fig.show()\n",
    "\n",
    "This code creates a histogram plot using the px.histogram function from Plotly Express. The \"sex\" column is used as the x-axis, the \"total_bill\" column is used as the y-axis, and the \"day\" column is used as the color parameter. The \"smoker\" column is used with the pattern_shape parameter to create different patterns for smokers and non-smokers.\n",
    "\n",
    "Note that a histogram plot typically shows the distribution of a single variable, so the use of the \"sex\" column as the x-axis is a bit unconventional. Nonetheless, "
   ]
  },
  {
   "cell_type": "markdown",
   "id": "ac316e10-ca9a-4313-bbb4-25bf7803ee49",
   "metadata": {},
   "source": [
    "Q4. Using the iris dataset in the Plotly library, Plot a scatter matrix plot, using the \"species\" column for\n",
    "the color parameter.\n",
    "Note: Use \"sepal_length\", \"sepal_width\", \"petal_length\", \"petal_width\" columns only with the\n",
    "dimensions parameter."
   ]
  },
  {
   "cell_type": "markdown",
   "id": "96206f11-0fe0-4523-b528-dd9790ffe2c0",
   "metadata": {},
   "source": [
    "Ans-\n",
    "    Here's the code to load the \"iris\" dataset from Plotly Express and create a scatter matrix plot with the \"species\" column used for the color parameter and only the specified columns included in the plot:\n",
    "    \n",
    "import plotly.express as px\n",
    "\n",
    "# Load the iris dataset from Plotly Express\n",
    "iris_df = px.data.iris()\n",
    "\n",
    "# Create a scatter matrix plot using Plotly Express\n",
    "fig = px.scatter_matrix(iris_df, dimensions=['sepal_length', 'sepal_width', 'petal_length', 'petal_width'], color='species')\n",
    "\n",
    "# Show the plot\n",
    "fig.show()\n",
    "\n",
    "This code creates a scatter matrix plot using the px.scatter_matrix function from Plotly Express. The \"species\" column is used as the color parameter to differenti"
   ]
  },
  {
   "cell_type": "markdown",
   "id": "2651aae2-5931-48b3-a350-4b325ae52426",
   "metadata": {},
   "source": [
    "Q.5 What is Distplot? Using Plotly express, plot a distplot."
   ]
  },
  {
   "cell_type": "markdown",
   "id": "e8f4421b-a01b-46a3-9a41-46bde1467263",
   "metadata": {},
   "source": [
    "Ans-\n",
    "   Distplot is a type of plot that combines a histogram and a density plot, providing a visual representation of the distribution of a numerical variable. In Plotly Express, the distplot function is used to create distplots. Here's an example of how to use the distplot function to plot a distplot using the \"total_bill\" column of the \"tips\" dataset:\n",
    "    \n",
    "import plotly.express as px\n",
    "\n",
    "# Load the tips dataset from Plotly Express\n",
    "tips_df = px.data.tips()\n",
    "\n",
    "# Create a distplot using Plotly Express\n",
    "fig = px.histogram(tips_df, x='total_bill', nbins=20, opacity=0.7, color_discrete_sequence=['blue'])\n",
    "\n",
    "# Add a density curve to the distplot\n",
    "fig.update_traces(histnorm='density', rug=True)\n",
    "\n",
    "# Show the plot\n",
    "fig.show()\n",
    "\n",
    "This code creates a distplot using the px.histogram function from Plotly Express. The \"total_bill\" column is used as the x parameter, and the number of bins is set to 20 usin"
   ]
  },
  {
   "cell_type": "code",
   "execution_count": null,
   "id": "6dd4ab66-d5e1-4551-8157-9238a4179416",
   "metadata": {},
   "outputs": [],
   "source": []
  }
 ],
 "metadata": {
  "kernelspec": {
   "display_name": "Python 3 (ipykernel)",
   "language": "python",
   "name": "python3"
  },
  "language_info": {
   "codemirror_mode": {
    "name": "ipython",
    "version": 3
   },
   "file_extension": ".py",
   "mimetype": "text/x-python",
   "name": "python",
   "nbconvert_exporter": "python",
   "pygments_lexer": "ipython3",
   "version": "3.10.8"
  }
 },
 "nbformat": 4,
 "nbformat_minor": 5
}
