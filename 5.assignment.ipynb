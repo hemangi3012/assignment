{
 "cells": [
  {
   "cell_type": "markdown",
   "id": "db27807c-b4e9-4a4f-9a9d-872477af3b3c",
   "metadata": {},
   "source": [
    "Question 1:= "
   ]
  },
  {
   "cell_type": "code",
   "execution_count": 5,
   "id": "8c82b9a5-2065-47c4-84b5-5e44e0298c5e",
   "metadata": {},
   "outputs": [
    {
     "name": "stdout",
     "output_type": "stream",
     "text": [
      "[('Sachin Tendulkar', 34357), ('Ricky Ponting', 27483), ('Jack Kallis', 25534), ('Virat Kohli', 24936)]\n",
      "[('Virat Kohli', 24936), ('Jack Kallis', 25534), ('Ricky Ponting', 27483), ('Sachin Tendulkar', 34357)]\n"
     ]
    }
   ],
   "source": [
    "l1=[('Sachin Tendulkar', 34357), ('Ricky Ponting', 27483), ('Jack Kallis', 25534), ('Virat Kohli', 24936)]\n",
    "print(l1)\n",
    "\n",
    "l1.sort(key = lambda x : x[1])\n",
    "print(l1)\n"
   ]
  },
  {
   "cell_type": "markdown",
   "id": "957ed1dd-db65-4929-8211-dc285371bb82",
   "metadata": {},
   "source": [
    "Question 2:= "
   ]
  },
  {
   "cell_type": "code",
   "execution_count": 6,
   "id": "8ef14a90-1235-4a05-aae1-77022b3cfe2d",
   "metadata": {},
   "outputs": [],
   "source": [
    "l=[1,2,3,4,5,6,7,8,9,10]"
   ]
  },
  {
   "cell_type": "code",
   "execution_count": 7,
   "id": "0aa41c69-7b9a-4dae-a639-e2c4414dca48",
   "metadata": {},
   "outputs": [
    {
     "data": {
      "text/plain": [
       "[1, 2, 3, 4, 5, 6, 7, 8, 9, 10]"
      ]
     },
     "execution_count": 7,
     "metadata": {},
     "output_type": "execute_result"
    }
   ],
   "source": [
    "l"
   ]
  },
  {
   "cell_type": "code",
   "execution_count": 8,
   "id": "ab946196-cac2-4e46-9c30-8763dc7c3361",
   "metadata": {},
   "outputs": [
    {
     "data": {
      "text/plain": [
       "[1, 4, 9, 16, 25, 36, 49, 64, 81, 100]"
      ]
     },
     "execution_count": 8,
     "metadata": {},
     "output_type": "execute_result"
    }
   ],
   "source": [
    "list (map (lambda x : x**2,l))"
   ]
  },
  {
   "cell_type": "markdown",
   "id": "d3b1e0ed-aad8-4e33-810c-da8a1e735889",
   "metadata": {},
   "source": [
    "Question 3:= Write a python program to convert the given list of integers into a tuple of strings. Use map and\n",
    "            lambda functions \n",
    "            Given String: [1, 2, 3, 4, 5, 6, 7, 8, 9, 10]\n",
    "            Expected output: ('1', '2', '3', '4', '5', '6', '7', '8', '9', '10')\n"
   ]
  },
  {
   "cell_type": "code",
   "execution_count": 13,
   "id": "8d83c1cb-989c-48f0-baf8-e4e611d90d4c",
   "metadata": {},
   "outputs": [],
   "source": [
    "l=[1,2,3,4,5,6,7,8,9,10]"
   ]
  },
  {
   "cell_type": "code",
   "execution_count": 14,
   "id": "c616ad4c-abe6-460e-bd07-b7aeb2540603",
   "metadata": {},
   "outputs": [
    {
     "data": {
      "text/plain": [
       "('1', '2', '3', '4', '5', '6', '7', '8', '9', '10')"
      ]
     },
     "execution_count": 14,
     "metadata": {},
     "output_type": "execute_result"
    }
   ],
   "source": [
    "tuple(map(lambda l : str(l),l ))"
   ]
  },
  {
   "cell_type": "markdown",
   "id": "2772ab09-77a3-4a4e-8a15-0eacc796bfc2",
   "metadata": {},
   "source": [
    "Question 4:=  Write a python program using reduce function to compute the product of a list containing numbers\n",
    "                from 1 to 25.\n"
   ]
  },
  {
   "cell_type": "code",
   "execution_count": 15,
   "id": "f658a445-488d-4172-9c47-beaa69573b29",
   "metadata": {},
   "outputs": [],
   "source": [
    "from functools import reduce"
   ]
  },
  {
   "cell_type": "code",
   "execution_count": 16,
   "id": "3f5504d0-847d-4274-bbb2-10552c22c442",
   "metadata": {},
   "outputs": [],
   "source": [
    "l=list(range(1,25))"
   ]
  },
  {
   "cell_type": "code",
   "execution_count": 17,
   "id": "c2a12a23-fd9d-42bd-8edf-30d8a2cf4525",
   "metadata": {},
   "outputs": [
    {
     "data": {
      "text/plain": [
       "[1,\n",
       " 2,\n",
       " 3,\n",
       " 4,\n",
       " 5,\n",
       " 6,\n",
       " 7,\n",
       " 8,\n",
       " 9,\n",
       " 10,\n",
       " 11,\n",
       " 12,\n",
       " 13,\n",
       " 14,\n",
       " 15,\n",
       " 16,\n",
       " 17,\n",
       " 18,\n",
       " 19,\n",
       " 20,\n",
       " 21,\n",
       " 22,\n",
       " 23,\n",
       " 24]"
      ]
     },
     "execution_count": 17,
     "metadata": {},
     "output_type": "execute_result"
    }
   ],
   "source": [
    "l"
   ]
  },
  {
   "cell_type": "code",
   "execution_count": 19,
   "id": "00f4f5ae-9cca-447c-a033-65adc312078d",
   "metadata": {},
   "outputs": [
    {
     "data": {
      "text/plain": [
       "620448401733239439360000"
      ]
     },
     "execution_count": 19,
     "metadata": {},
     "output_type": "execute_result"
    }
   ],
   "source": [
    "reduce (lambda x,y : x*y,l)"
   ]
  },
  {
   "cell_type": "markdown",
   "id": "3bf3740b-c823-4ad3-ad4b-56ce45377e8d",
   "metadata": {},
   "source": [
    "Question 5:= Write a python program to filter the numbers in a given list that are divisible by 2 and 3 using the\n",
    "            filter function.\n",
    "            [2, 3, 6, 9, 27, 60, 90, 120, 55, 46]"
   ]
  },
  {
   "cell_type": "code",
   "execution_count": 20,
   "id": "b912bf65-4919-4cff-bebd-ce0ac46e005e",
   "metadata": {},
   "outputs": [],
   "source": [
    "l1=[2,3,6,9,27,60,90,120,55,46]"
   ]
  },
  {
   "cell_type": "code",
   "execution_count": 25,
   "id": "180b1d68-e8d5-4a0d-97d2-424fcdff74c6",
   "metadata": {},
   "outputs": [
    {
     "name": "stdout",
     "output_type": "stream",
     "text": [
      "[2, 3, 6, 9, 27, 60, 90, 120, 46]\n"
     ]
    }
   ],
   "source": [
    "def div(x):\n",
    "    return x%2==0 or x%3==0\n",
    "l2=list(filter(div,l1))\n",
    "print(l2)"
   ]
  },
  {
   "cell_type": "markdown",
   "id": "f760a6b0-3c20-4b98-acf6-e4377139fc9b",
   "metadata": {},
   "source": [
    " Question 6:= Write a python program to find palindromes in the given list of strings using lambda and filter\n",
    "                function.\n",
    "                ['python', 'php', 'aba', 'radar', 'level']"
   ]
  },
  {
   "cell_type": "code",
   "execution_count": 26,
   "id": "d95b1213-f52d-4553-9f04-e533068b4fdd",
   "metadata": {},
   "outputs": [],
   "source": [
    "l1=[\"python\",\"php\",\"aba\",\"radar\",\"level\"]"
   ]
  },
  {
   "cell_type": "code",
   "execution_count": 33,
   "id": "19d906e6-e04f-4387-9d62-d594dd975394",
   "metadata": {},
   "outputs": [
    {
     "name": "stdout",
     "output_type": "stream",
     "text": [
      "['php', 'aba', 'radar', 'level']\n"
     ]
    }
   ],
   "source": [
    "def pali(l1):\n",
    "    return l1 == l1[::-1]\n",
    "l2=list(filter(pali,l1))\n",
    "print(l2)"
   ]
  },
  {
   "cell_type": "code",
   "execution_count": null,
   "id": "d2ada5f6-b284-48f7-a8d0-b861fe81e158",
   "metadata": {},
   "outputs": [],
   "source": []
  },
  {
   "cell_type": "code",
   "execution_count": null,
   "id": "68b500af-d47c-44bf-a5f2-4070c5c13db3",
   "metadata": {},
   "outputs": [],
   "source": []
  }
 ],
 "metadata": {
  "kernelspec": {
   "display_name": "Python 3 (ipykernel)",
   "language": "python",
   "name": "python3"
  },
  "language_info": {
   "codemirror_mode": {
    "name": "ipython",
    "version": 3
   },
   "file_extension": ".py",
   "mimetype": "text/x-python",
   "name": "python",
   "nbconvert_exporter": "python",
   "pygments_lexer": "ipython3",
   "version": "3.10.8"
  }
 },
 "nbformat": 4,
 "nbformat_minor": 5
}
