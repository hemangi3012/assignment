{
 "cells": [
  {
   "cell_type": "markdown",
   "id": "53b131c4-907b-4e64-8830-d568830a1c58",
   "metadata": {},
   "source": [
    "question 1:="
   ]
  },
  {
   "cell_type": "code",
   "execution_count": 1,
   "id": "daeb643e-0946-48d3-89d2-10be69478eff",
   "metadata": {},
   "outputs": [
    {
     "name": "stdin",
     "output_type": "stream",
     "text": [
      "enter the marks :=  45\n"
     ]
    },
    {
     "name": "stdout",
     "output_type": "stream",
     "text": [
      "D\n"
     ]
    }
   ],
   "source": [
    "marks=int(input(\"enter the marks := \"))\n",
    "if marks>90:\n",
    "    print(\"A\")\n",
    "elif marks>80 and marks<=90:\n",
    "    print(\"B\")\n",
    "elif marks>=60 and marks<=80:\n",
    "    print(\"C\")\n",
    "else:\n",
    "    print(\"D\")"
   ]
  },
  {
   "cell_type": "markdown",
   "id": "43e52a34-f2d1-40e1-8f84-344dd07a96bf",
   "metadata": {},
   "source": [
    "Question 2 := "
   ]
  },
  {
   "cell_type": "code",
   "execution_count": 3,
   "id": "f52b60b6-c640-4ac6-85ac-9efaa6f04ac1",
   "metadata": {},
   "outputs": [
    {
     "name": "stdin",
     "output_type": "stream",
     "text": [
      "enter the cost price of bike :=  120000\n"
     ]
    },
    {
     "name": "stdout",
     "output_type": "stream",
     "text": [
      "tax to be paid 18000.0\n"
     ]
    }
   ],
   "source": [
    "tax=0\n",
    "cp=int(input(\"enter the cost price of bike := \"))\n",
    "if cp>100000:\n",
    "    tax=cp*15/100\n",
    "elif cp>50000 and cp<=100000:\n",
    "    tax=cp*10/100\n",
    "elif cp<=50000:\n",
    "    tax=cp*5/100\n",
    "print(\"tax to be paid\",tax)"
   ]
  },
  {
   "cell_type": "markdown",
   "id": "0acea3d3-d424-4cae-94f9-704656ccc3b9",
   "metadata": {},
   "source": [
    "Question 3:="
   ]
  },
  {
   "cell_type": "code",
   "execution_count": 2,
   "id": "0e22ab4f-5191-4f0e-a8d3-44acff693f0e",
   "metadata": {},
   "outputs": [
    {
     "name": "stdin",
     "output_type": "stream",
     "text": [
      "enter name of city :=  delhi\n"
     ]
    },
    {
     "name": "stdout",
     "output_type": "stream",
     "text": [
      "monument name is : Red Fort\n"
     ]
    }
   ],
   "source": [
    "city=input(\"enter name of city := \")\n",
    "if city.lower()==\"delhi\":\n",
    "    print(\"monument name is : Red Fort\")\n",
    "elif city.lower()==\"agra\":\n",
    "    print(\"monument name is : Taj Mahal\")\n",
    "elif city.lower()==\"jaipur\":\n",
    "    print(\"monument name is : Jal Mahal\")\n",
    "else:\n",
    "    print(\"enter correct name of city\")"
   ]
  },
  {
   "cell_type": "markdown",
   "id": "d905a794-6121-4d7b-ad7c-e14860eabb71",
   "metadata": {},
   "source": [
    "Question 4:="
   ]
  },
  {
   "cell_type": "code",
   "execution_count": 2,
   "id": "ca64551b-cd3b-4a2b-ae0d-4070541b2136",
   "metadata": {},
   "outputs": [
    {
     "name": "stdin",
     "output_type": "stream",
     "text": [
      "enter a number :=  18\n"
     ]
    },
    {
     "name": "stdout",
     "output_type": "stream",
     "text": [
      "6.0\n"
     ]
    }
   ],
   "source": [
    "num=int (input (\"enter a number := \"))\n",
    "while num > 10:\n",
    "    num =num/3\n",
    "    print(num)\n"
   ]
  },
  {
   "cell_type": "markdown",
   "id": "ecaeb20a-cd19-4eb9-8158-916331d9324a",
   "metadata": {},
   "source": [
    "Question 5 := "
   ]
  },
  {
   "cell_type": "markdown",
   "id": "12d4ce4a-3b71-4f7b-82c6-e253751ca811",
   "metadata": {},
   "source": [
    "Python while loop is used to run a block code until a certain condition is met.\n",
    "\n",
    "The syntax of while loop is:\n",
    "\n",
    "while condition:\n",
    "    # body of while loop\n",
    "Here,\n",
    "\n",
    "A while loop evaluates the condition\n",
    "If the condition evaluates to True, the code inside the while loop is executed.\n",
    "condition is evaluated again.\n",
    "This process continues until the condition is False.\n",
    "When condition evaluates to False, the loop stops"
   ]
  },
  {
   "cell_type": "markdown",
   "id": "97be8d02-a85d-4d4c-bbbd-bbf2c6702950",
   "metadata": {},
   "source": [
    "Example := \n",
    "# program to display numbers from 1 to 5\n",
    "\n",
    "# initialize the variable\n",
    "i = 1\n",
    "n = 5\n",
    "\n",
    "# while loop from i = 1 to 5\n",
    "while i <= n:\n",
    "    print(i)\n",
    "    i = i + 1"
   ]
  },
  {
   "cell_type": "markdown",
   "id": "d105fe56-97cd-4ac2-9cef-bd7ce8a3e6de",
   "metadata": {},
   "source": [
    "Question 6:= "
   ]
  },
  {
   "cell_type": "code",
   "execution_count": 1,
   "id": "2000a3dd-7bfa-4d69-a2e8-7947f78210ee",
   "metadata": {},
   "outputs": [
    {
     "name": "stdout",
     "output_type": "stream",
     "text": [
      "1 \n",
      "1 2 \n",
      "1 2 3 \n",
      "1 2 3 4 \n",
      "1 2 3 4 5 \n"
     ]
    }
   ],
   "source": [
    "i=1\n",
    "while i<=5:\n",
    "    j=1\n",
    "    while j<=i:\n",
    "        print(j,end=\" \")\n",
    "        j=j+1\n",
    "    print(\"\")\n",
    "    i=i+1"
   ]
  },
  {
   "cell_type": "code",
   "execution_count": 2,
   "id": "237fff7f-d101-4b6f-8068-6eed8e164393",
   "metadata": {},
   "outputs": [
    {
     "name": "stdout",
     "output_type": "stream",
     "text": [
      "     \n",
      "     * \n",
      "    *  * \n",
      "   *  *  * \n",
      "  *  *  *  * \n",
      " *  *  *  *  * \n"
     ]
    }
   ],
   "source": [
    "n=5\n",
    "i=0\n",
    "while i<=n:\n",
    "    print(\" \"*(n-i) + \" * \" * i)\n",
    "    i=i+1"
   ]
  },
  {
   "cell_type": "code",
   "execution_count": null,
   "id": "987f0dff-fe36-42b3-b392-50dcb49db40f",
   "metadata": {},
   "outputs": [],
   "source": [
    "n=5\n",
    "i=1\n",
    "j=0\n",
    "while i<=n:\n",
    "    while j<=i-1:\n",
    "        print(\"*\",end=\" \")\n",
    "        j=j+1\n",
    "    print(\"\\r\")\n",
    "    j=0;i=i+1;"
   ]
  },
  {
   "cell_type": "markdown",
   "id": "058da6e3-74b8-4c06-84bf-6f96c610d4e9",
   "metadata": {},
   "source": [
    "Question 7 := "
   ]
  },
  {
   "cell_type": "code",
   "execution_count": 4,
   "id": "7d3505ee-70ee-4686-a337-5b7e8eb87c4e",
   "metadata": {},
   "outputs": [
    {
     "name": "stdin",
     "output_type": "stream",
     "text": [
      "enter a number you want to revers :=  10\n"
     ]
    },
    {
     "name": "stdout",
     "output_type": "stream",
     "text": [
      "10\n",
      "9\n",
      "8\n",
      "7\n",
      "6\n",
      "5\n",
      "4\n",
      "3\n",
      "2\n",
      "1\n"
     ]
    }
   ],
   "source": [
    "num=int (input (\"enter a number you want to revers := \"))\n",
    "i=num\n",
    "while (i>=1):\n",
    "    print(i)\n",
    "    i=i-1"
   ]
  },
  {
   "cell_type": "markdown",
   "id": "c8876399-9dcc-4f8b-856b-00f3229c2ada",
   "metadata": {},
   "source": [
    "Question 8:= "
   ]
  },
  {
   "cell_type": "code",
   "execution_count": 3,
   "id": "8ea73814-16c8-49de-87b1-6ed4fb46d5e9",
   "metadata": {},
   "outputs": [
    {
     "name": "stdin",
     "output_type": "stream",
     "text": [
      "enter a number you want to revers :=  20\n"
     ]
    },
    {
     "name": "stdout",
     "output_type": "stream",
     "text": [
      "20\n",
      "19\n",
      "18\n",
      "17\n",
      "16\n",
      "15\n",
      "14\n",
      "13\n",
      "12\n",
      "11\n",
      "10\n",
      "9\n",
      "8\n",
      "7\n",
      "6\n",
      "5\n",
      "4\n",
      "3\n",
      "2\n",
      "1\n"
     ]
    }
   ],
   "source": [
    "num=int (input (\"enter a number you want to revers := \"))\n",
    "i=num\n",
    "while (i>=1):\n",
    "    print(i)\n",
    "    i=i-1"
   ]
  },
  {
   "cell_type": "code",
   "execution_count": null,
   "id": "14163c50-9487-4386-adeb-79b47fba05fb",
   "metadata": {},
   "outputs": [],
   "source": []
  }
 ],
 "metadata": {
  "kernelspec": {
   "display_name": "Python 3 (ipykernel)",
   "language": "python",
   "name": "python3"
  },
  "language_info": {
   "codemirror_mode": {
    "name": "ipython",
    "version": 3
   },
   "file_extension": ".py",
   "mimetype": "text/x-python",
   "name": "python",
   "nbconvert_exporter": "python",
   "pygments_lexer": "ipython3",
   "version": "3.10.8"
  }
 },
 "nbformat": 4,
 "nbformat_minor": 5
}
