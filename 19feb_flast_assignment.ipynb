{
 "cells": [
  {
   "cell_type": "markdown",
   "id": "8e7d75d2-5284-4abe-8c14-46324f491078",
   "metadata": {},
   "source": [
    "Q1. What is Flask Framework? What are the advantages of Flask Framework?"
   ]
  },
  {
   "cell_type": "markdown",
   "id": "39f25bf3-f6f5-4c7a-9f71-83a38abb0ad9",
   "metadata": {},
   "source": [
    "Ans-\n",
    "     Flask is a popular web application framework for Python. It is designed to be lightweight, flexible, and easy to use, making it a popular choice for building small to medium-sized web applications, APIs, and prototypes. Flask is based on the Werkzeug WSGI toolkit and the Jinja2 template engine, and it provides developers with a simple and intuitive API for building web applications.\n",
    "    \n",
    "    Some of the advantages of using Flask include:\n",
    "\n",
    "1.Lightweight and Flexible: Flask is a lightweight and flexible framework that provides developers with the freedom to choose the components they need for their application.\n",
    "\n",
    "2.Easy to Get Started: Flask has a simple and intuitive API that is easy to learn and use. It requires minimal boilerplate code and setup, making it a great choice for developers who want to quickly build web applications.\n",
    "\n",
    "3.Customizable: Flask is highly customizable, which means that developers can build applications that meet their specific requirements. It allows for modular design, making it easy to integrate with other tools and libraries.\n",
    "\n",
    "4.Fast: Flask is fast and efficient, which makes it a great choice for building web applications that require high performance.\n",
    "\n",
    "5.Extensible: Flask is highly extensible, which means that developers can use it to build a wide range of applications, from simple websites to complex web applications and APIs.\n",
    "\n",
    "6.Large Community: Flask has a large and active community of developers and users, which means that there are plenty of resources and tools available to help developers build applications.\n",
    "\n",
    "Overall, Flask is a great choice for developers who want a lightweight, flexible, and easy-to-use web application framework that can be customized to m"
   ]
  },
  {
   "cell_type": "markdown",
   "id": "ade2df0e-53c5-4c61-99d6-0c238944ad1e",
   "metadata": {},
   "source": [
    "Q2. Create a simple Flask application to display ‘Hello World!!’. Attach the screenshot of the output in\n",
    "Jupyter Notebook."
   ]
  },
  {
   "cell_type": "code",
   "execution_count": null,
   "id": "c2ab5165-d597-4acd-b9d3-80a7e010702f",
   "metadata": {},
   "outputs": [],
   "source": [
    "Ans-\n",
    "       from flask import Flask\n",
    "\n",
    "        app = Flask(__name__)\n",
    "\n",
    "        @app.route('/')\n",
    "        def hello_world():\n",
    "            return 'Hello World!!'\n",
    "\n",
    "        if __name__ == '__main__':\n",
    "            app.run()\n",
    "    \n",
    "To run this application, you can save it to a file called app.py and then run it from the command line using the command python app.py. This will start the Flask develo"
   ]
  },
  {
   "cell_type": "markdown",
   "id": "be8f5cea-7962-401e-8689-fb6575ffa84d",
   "metadata": {},
   "source": [
    "Q3. What is App routing in Flask? Why do we use app routes?"
   ]
  },
  {
   "cell_type": "markdown",
   "id": "3235a0b3-9132-45dc-84d2-33b92395aa90",
   "metadata": {},
   "source": [
    "Ans-\n",
    "     App routing is a key feature of Flask, which allows you to map URLs to view functions in your Flask application. It is the process of mapping URLs to Python functions in a Flask application. When a user requests a specific URL, Flask will invoke the corresponding view function that is associated with that URL.\n",
    "\n",
    "App routes are used in Flask to define the behavior of the application when a user requests a particular URL. It allows you to define different views for different URLs and HTTP methods (such as GET, POST, etc.) based on the URL rules you have defined.\n",
    "\n",
    "App routes in Flask provide a way to handle the various requests and responses of a web application. By using app routes, you can create URLs that are user-friendly, easy to read and remember, and provide an organized and structured way to handle the different requests and responses of a web application. App routes allow for a modular design that can be easily modified, extended, and tested.\n",
    "\n",
    "Overall, app routing in Flask is a key feature that helps to make web application development simple, organized, and easy to maintain. It provides a flexible and"
   ]
  },
  {
   "cell_type": "markdown",
   "id": "e8062faa-3a01-408d-9ad5-a98aeb839075",
   "metadata": {},
   "source": [
    "Q4. Create a “/welcome” route to display the welcome message “Welcome to ABC Corporation” and a “/”\n",
    "route to show the following details:\n",
    "Company Name: ABC Corporation\n",
    "Location: India\n",
    "Contact Detail: 999-999-9999"
   ]
  },
  {
   "cell_type": "code",
   "execution_count": null,
   "id": "751a7f03-771b-4ca7-8804-17f0e52455d5",
   "metadata": {},
   "outputs": [],
   "source": [
    "Ans-\n",
    "     from flask import Flask\n",
    "\n",
    "     app = Flask(__name__)\n",
    "\n",
    "    @app.route('/welcome')\n",
    "    def welcome():\n",
    "        return 'Welcome to ABC Corporation'\n",
    "\n",
    "    @app.route('/')\n",
    "    def company_details():\n",
    "        return 'Company Name: ABC Corporation<br>Location: India<br>Contact Detail: 999-999-9999'\n",
    "\n",
    "     if __name__ == '__main__':\n",
    "        app.run()  \n",
    "\n",
    "Output:  Comapny Name: ABC Corporation\n",
    "         Location: India\n",
    "         Contact Detail: 999-999-9999\n",
    "    "
   ]
  },
  {
   "cell_type": "markdown",
   "id": "18e4b89e-b540-4757-8bd2-c4ac8411ce8d",
   "metadata": {},
   "source": [
    "Q5. What function is used in Flask for URL Building? Write a Python code to demonstrate the working of the\n",
    "url_for() function."
   ]
  },
  {
   "cell_type": "code",
   "execution_count": null,
   "id": "20a8c221-618c-4563-a468-d2ea5bb56150",
   "metadata": {},
   "outputs": [],
   "source": [
    "Ans-\n",
    "     In Flask, the url_for() function is used for URL building. This function generates a URL to the specified endpoint with the given method and arguments. It is a powerful tool for constructing URLs dynamically, especially for links that change frequently or when using parameters that are not known in advance.\n",
    "\n",
    "Here's an example of how to use the url_for() function in a Flask application:\n",
    "\n",
    "For example :\n",
    "              \n",
    "            from flask import Flask, url_for\n",
    "\n",
    "app = Flask(__name__)\n",
    "\n",
    "@app.route('/')\n",
    "def home():\n",
    "    return 'Welcome to the home page'\n",
    "\n",
    "@app.route('/user/<username>')\n",
    "def profile(username):\n",
    "    return 'Welcome to your profile, %s' % username\n",
    "\n",
    "if __name__ == '__main__':\n",
    "    with app.test_request_context():\n",
    "        print(url_for('home'))    # Output: /\n",
    "        print(url_for('profile', username='John Doe'))  #Output: /user/john%20Doe"
   ]
  }
 ],
 "metadata": {
  "kernelspec": {
   "display_name": "Python 3 (ipykernel)",
   "language": "python",
   "name": "python3"
  },
  "language_info": {
   "codemirror_mode": {
    "name": "ipython",
    "version": 3
   },
   "file_extension": ".py",
   "mimetype": "text/x-python",
   "name": "python",
   "nbconvert_exporter": "python",
   "pygments_lexer": "ipython3",
   "version": "3.10.8"
  }
 },
 "nbformat": 4,
 "nbformat_minor": 5
}
