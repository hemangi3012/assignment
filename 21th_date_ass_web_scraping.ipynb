{
 "cells": [
  {
   "cell_type": "markdown",
   "id": "b789da70-20cc-4dbf-85be-ed72aa5b3bd0",
   "metadata": {},
   "source": [
    "Q1. What is Web Scraping? Why is it Used? Give three areas where Web Scraping is used to get data."
   ]
  },
  {
   "cell_type": "markdown",
   "id": "ec4f3f71-4103-4871-8b77-3211450eeca3",
   "metadata": {},
   "source": [
    "Web scraping is a technique to fetch data from websites. While surfing on the web, many websites don’t allow the user to save data for personal use. One way is to manually copy-paste the data, which both tedious and time-consuming. Web Scraping is the automation of the data extraction process from websites. This event is done with the help of web scraping software known as web scrapers. They automatically load and extract data from the websites based on user requirements. These can be custom built to work for one site or can be configured to work with any website. "
   ]
  },
  {
   "cell_type": "code",
   "execution_count": null,
   "id": "277be6fd-f566-41f9-9913-cce2877119d3",
   "metadata": {},
   "outputs": [],
   "source": [
    "Monitoring e-commerce prices.\n",
    "Finding opportunities for investment.\n",
    "Analyzing social media web data.\n",
    "Applying machine learning techniques.\n",
    "Gathering web data automatically."
   ]
  },
  {
   "cell_type": "markdown",
   "id": "3718b5a8-5b65-4fe4-9bbc-7c57480889ab",
   "metadata": {},
   "source": [
    "Q2. What are the different methods used for Web Scraping?"
   ]
  },
  {
   "cell_type": "code",
   "execution_count": null,
   "id": "e701a835-f1a8-4f93-8e75-88eeaea971d7",
   "metadata": {},
   "outputs": [],
   "source": [
    "HTML Parsing\n",
    "DOM Parsing\n",
    "Vertical Aggregation\n",
    "XPath\n",
    "Google Sheets"
   ]
  },
  {
   "cell_type": "markdown",
   "id": "486cec76-a49b-4180-86e6-16294d9fe735",
   "metadata": {},
   "source": [
    "Q3. What is Beautiful Soup? Why is it used?"
   ]
  },
  {
   "cell_type": "markdown",
   "id": "f43adb2a-f3fa-4fea-b5b3-3ea7870095d9",
   "metadata": {},
   "source": [
    "Beautiful Soup is a Python library that is used for web scraping purposes to pull the data out of HTML and XML files. It creates a parse tree from page source code that can be used to extract data in a hierarchical and more readable manner"
   ]
  },
  {
   "cell_type": "markdown",
   "id": "77634452-ab0b-4b47-a79e-5ece201eb6f7",
   "metadata": {},
   "source": [
    "Q4. Why is flask used in this Web Scraping project?"
   ]
  },
  {
   "cell_type": "markdown",
   "id": "c0192ea6-a7ac-4292-a978-bd3d8b0a62d1",
   "metadata": {},
   "source": [
    "Flask is a lightweight Python web framework that provides useful tools and features for creating web applications in the Python Language. It gives developers flexibility and is an accessible framework for new developers because you can build a web application quickly using only a single Python file."
   ]
  },
  {
   "cell_type": "markdown",
   "id": "1b1a5f7c-a85f-4590-a8cf-f8ae32c3699f",
   "metadata": {},
   "source": [
    "Q5. Write the names of AWS services used in this project. Also, explain the use of each service."
   ]
  },
  {
   "cell_type": "markdown",
   "id": "3fe88c50-cb15-4407-88e1-9b83bdf2a235",
   "metadata": {},
   "source": [
    "1. beanstalk service := to create application to deploy your code throught github . \n",
    "2. code pipeline     := AWS Data Pipeline is a web service that helps you reliably process and move data between different AWS compute and storage                             services, as well as on-premises data sources, at specified interval"
   ]
  }
 ],
 "metadata": {
  "kernelspec": {
   "display_name": "Python 3 (ipykernel)",
   "language": "python",
   "name": "python3"
  },
  "language_info": {
   "codemirror_mode": {
    "name": "ipython",
    "version": 3
   },
   "file_extension": ".py",
   "mimetype": "text/x-python",
   "name": "python",
   "nbconvert_exporter": "python",
   "pygments_lexer": "ipython3",
   "version": "3.10.8"
  }
 },
 "nbformat": 4,
 "nbformat_minor": 5
}
