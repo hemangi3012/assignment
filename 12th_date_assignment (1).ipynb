{
 "cells": [
  {
   "cell_type": "markdown",
   "id": "c9a3bbde-aa0f-4045-a2c3-407bf628a60e",
   "metadata": {},
   "source": [
    "Q1. What is an Exception in python? Write the difference between Exceptions and Syntax errors.\n"
   ]
  },
  {
   "cell_type": "markdown",
   "id": "27944864-6868-497d-b4f6-8f908bc9031c",
   "metadata": {},
   "source": [
    "An exception in Python is an incident that happens while executing a program that causes the regular course of the program's commands to be disrupted. When a Python code comes across a condition it can't handle, it raises an exception. An object in Python that describes an error is called an exception.\n",
    "\n",
    "When a Python code throws an exception, it has two options: handle the exception immediately or stop and quit.\n",
    "\n",
    "Errors cannot be handled, while Python exceptions can be handled at the run time. An error can be a syntax (parsing) error, while there can be many types of exceptions that could occur during the execution and are not unconditionally inoperable."
   ]
  },
  {
   "cell_type": "markdown",
   "id": "7e1184e1-4ec6-4a8e-980c-1dab4689b711",
   "metadata": {},
   "source": [
    "Q2. What happens when an exception is not handled? Explain with an example.\n"
   ]
  },
  {
   "cell_type": "markdown",
   "id": "31d5bff7-9eca-4cd6-a6cc-b098935bd1f8",
   "metadata": {},
   "source": [
    "If the exception is not handled by an except clause, the exception is re-raised after the finally clause has been executed.\n",
    "*example:= \n",
    "try:\n",
    "    open(\"database.sqlite\")\n",
    "except OSError:\n",
    "    raise RuntimeError(\"unable to handle error\")"
   ]
  },
  {
   "cell_type": "markdown",
   "id": "6205daa7-ce7a-4ae8-9b35-cfc221781c85",
   "metadata": {},
   "source": [
    "Q3. Which Python statements are used to catch and handle exceptions? Explain with an example.\n",
    "\n"
   ]
  },
  {
   "cell_type": "markdown",
   "id": "a30d6bf7-d9e8-4d21-a801-4d320793b28a",
   "metadata": {},
   "source": [
    "The try...except block is used to handle exceptions in Python. Here's the syntax of try...except block:\n",
    "\n",
    "try:\n",
    "    # code that may cause exception\n",
    "except:\n",
    "    # code to run when exception occurs\n",
    "Here, we have placed the code that might generate an exception inside the try block. Every try block is followed by an except block.\n",
    "\n",
    "When an exception occurs, it is caught by the except block. The except block cannot be used without the try block.\n",
    "\n",
    "Example: Exception Handling Using try...except\n",
    "try:\n",
    "    numerator = 10\n",
    "    denominator = 0\n",
    "\n",
    "    result = numerator/denominator\n",
    "\n",
    "    print(result)\n",
    "except:\n",
    "    print(\"Error: Denominator cannot be 0.\")\n",
    "\n",
    "# Output: Error: Denominator cannot be 0. \n",
    "Run Code\n",
    "In the example, we are trying to divide a number by 0. Here, this code generates an exception.\n",
    "\n",
    "To handle the exception, we have put the code, result = numerator/denominator inside the try block. Now when an exception occurs, the rest of the code inside the try block is skipped.\n",
    "\n",
    "The except block catches the exception and statements inside the except block are executed.\n",
    "\n",
    "If none of the statements in the try block generates an exception, the except block is skipped."
   ]
  },
  {
   "cell_type": "markdown",
   "id": "34424b27-5836-4aeb-9c08-845c22cbc1b4",
   "metadata": {},
   "source": [
    "Q4. Explain with an example:\n",
    "\n",
    "a. try and else\n",
    "\n",
    "b. finally\n",
    "\n",
    "c. raise\n"
   ]
  },
  {
   "cell_type": "code",
   "execution_count": null,
   "id": "51cb74c3-8a55-4d3a-bc17-34231ab8c206",
   "metadata": {},
   "outputs": [],
   "source": [
    "Try: This block will test the excepted error to occur\n",
    "Else: If there is no exception then this block will be executed\n",
    "raise : The raise statement specifies an argument which initializes the exception object.\n",
    "Finally: Finally block always gets executed either exception is generated or not\n",
    "Syntax:\n",
    "\n",
    "try:\n",
    "       # Some Code.... \n",
    "\n",
    "except:\n",
    "       # optional block\n",
    "       # Handling of exception (if required)\n",
    "\n",
    "else:\n",
    "       # execute if no exception\n",
    "        \n",
    "if len(num) > 3:  \n",
    "    raise Exception( f\"Length of the given list must be less than or equal to 3 but is {len(num)}\" )  \n",
    "\n",
    "finally:\n",
    "      # Some code .....(always executed)"
   ]
  },
  {
   "cell_type": "markdown",
   "id": "6666380b-cd02-4550-9b3d-c05de8285762",
   "metadata": {},
   "source": [
    "Q5. What are Custom Exceptions in python? Why do we need Custom Exceptions? Explain with an example.\n",
    "\n"
   ]
  },
  {
   "cell_type": "markdown",
   "id": "d9a848f1-9609-4392-98d7-4e318ebd9fb7",
   "metadata": {},
   "source": [
    "In Python, we can define custom exceptions by creating a new class that is derived from the built-in Exception class.\n",
    "\n",
    "Here's the syntax to define custom exceptions,\n",
    "\n",
    "class CustomError(Exception):\n",
    "    ...\n",
    "    pass\n",
    "\n",
    "try:\n",
    "   ...\n",
    "\n",
    "except CustomError:\n",
    "    ...\n",
    "Here, CustomError is a user-defined error which inherits from the Exception class.\n",
    "\n",
    "Python is known for its readability and user-friendliness; using custom exceptions can help us improve this even more, especially when we are designing our package. If you decide to avoid, at all costs, custom exceptions by using only built-in ones, you risk decreasing Python's readability.\n",
    "*example:= \n",
    "class FahrenheitError(Exception):\n",
    "    min_f = 32\n",
    "    max_f = 212\n",
    "\n",
    "    def __init__(self, f, *args):\n",
    "        super().__init__(args)\n",
    "        self.f = f\n",
    "\n",
    "    def __str__(self):\n",
    "        return f'The {self.f} is not in a valid range {self.min_f, self.max_f}'"
   ]
  },
  {
   "cell_type": "markdown",
   "id": "78189187-c6ca-4f29-b531-b6d814b27e64",
   "metadata": {},
   "source": [
    "Q6. Create a custom exception class. Use this class to handle an exception."
   ]
  },
  {
   "cell_type": "markdown",
   "id": "94095f1a-a750-453f-9880-166af444e927",
   "metadata": {},
   "source": [
    "class InvalidAgeException(Exception):\n",
    "    \"Raised when the input value is less than 18\"\n",
    "    pass\n",
    "\n",
    "# you need to guess this number\n",
    "number = 18\n",
    "\n",
    "try:\n",
    "    input_num = int(input(\"Enter a number: \"))\n",
    "    if input_num < number:\n",
    "        raise InvalidAgeException\n",
    "    else:\n",
    "        print(\"Eligible to Vote\")\n",
    "        \n",
    "except InvalidAgeException:\n",
    "    print(\"Exception occurred: Invalid Age\")"
   ]
  },
  {
   "cell_type": "code",
   "execution_count": null,
   "id": "dc09a798-3ae9-4091-8462-bbf724d8f92e",
   "metadata": {},
   "outputs": [],
   "source": []
  }
 ],
 "metadata": {
  "kernelspec": {
   "display_name": "Python 3 (ipykernel)",
   "language": "python",
   "name": "python3"
  },
  "language_info": {
   "codemirror_mode": {
    "name": "ipython",
    "version": 3
   },
   "file_extension": ".py",
   "mimetype": "text/x-python",
   "name": "python",
   "nbconvert_exporter": "python",
   "pygments_lexer": "ipython3",
   "version": "3.10.8"
  }
 },
 "nbformat": 4,
 "nbformat_minor": 5
}
