{
 "cells": [
  {
   "cell_type": "markdown",
   "id": "c3141d1f-416f-44be-8f16-bf7e4f9480a1",
   "metadata": {},
   "source": [
    "Question 1 := "
   ]
  },
  {
   "cell_type": "markdown",
   "id": "cd547086-b2cc-4529-96bc-97bad76f1823",
   "metadata": {},
   "source": [
    " Which keyword is used to create a function? Create a function to return a list of odd numbers in the \n",
    "range of 1 to 25.\n"
   ]
  },
  {
   "cell_type": "code",
   "execution_count": 10,
   "id": "b839f38c-0384-4673-88cf-7ee250f9038f",
   "metadata": {},
   "outputs": [
    {
     "name": "stdout",
     "output_type": "stream",
     "text": [
      "[1, 2, 3, 4, 5, 6, 7, 8, 9, 10, 11, 12, 13, 14, 15, 16, 17, 18, 19, 20, 21, 22, 23, 24]\n"
     ]
    }
   ],
   "source": [
    "# \"def\"  keyword is use to ctreate a funcation .\n",
    "l1=list(range(1,25))\n",
    "print(l1)\n",
    "def odd(l1):\n",
    "    return [i for i in l1 if i%2==1]\n",
    "   "
   ]
  },
  {
   "cell_type": "code",
   "execution_count": 11,
   "id": "c450f69e-8754-426c-9ac2-f106721959ec",
   "metadata": {},
   "outputs": [
    {
     "data": {
      "text/plain": [
       "[1, 3, 5, 7, 9, 11, 13, 15, 17, 19, 21, 23]"
      ]
     },
     "execution_count": 11,
     "metadata": {},
     "output_type": "execute_result"
    }
   ],
   "source": [
    "odd(l1)"
   ]
  },
  {
   "cell_type": "markdown",
   "id": "7cf0abc7-62b9-4171-bec4-5d55c5fd51a1",
   "metadata": {},
   "source": [
    "question 2:= "
   ]
  },
  {
   "cell_type": "markdown",
   "id": "5ec7c33d-b892-4ebe-adc1-2d448f7c1cfe",
   "metadata": {},
   "source": [
    "* args is not a keyword\n",
    "if you want to number of argumnet pass in funcation that time you use *args ..\n",
    "**kwargs  using this you can pass number of string,list and tuples as a perameter  "
   ]
  },
  {
   "cell_type": "code",
   "execution_count": 14,
   "id": "5ba2a82e-f7b8-4f26-a9cd-be8a990a1e23",
   "metadata": {},
   "outputs": [],
   "source": [
    "def hello(*args):    \n",
    "    return args"
   ]
  },
  {
   "cell_type": "code",
   "execution_count": 15,
   "id": "ec3ae7b4-5b43-4bc4-9052-294f73007004",
   "metadata": {},
   "outputs": [
    {
     "data": {
      "text/plain": [
       "(2, 3, 4, 5, 6, 7, 8, 9)"
      ]
     },
     "execution_count": 15,
     "metadata": {},
     "output_type": "execute_result"
    }
   ],
   "source": [
    "hello(2,3,4,5,6,7,8,9)"
   ]
  },
  {
   "cell_type": "code",
   "execution_count": 18,
   "id": "e1538148-b578-4338-9f38-1da46e433497",
   "metadata": {},
   "outputs": [],
   "source": [
    "def hello(**kwargs):    \n",
    "    return kwargs"
   ]
  },
  {
   "cell_type": "code",
   "execution_count": 20,
   "id": "5a061f81-9c28-4822-b80f-952dc5903abd",
   "metadata": {},
   "outputs": [
    {
     "data": {
      "text/plain": [
       "{'a': [1, 2, 3, 4, 5], 'b': 'hema', 'c': 23.45}"
      ]
     },
     "execution_count": 20,
     "metadata": {},
     "output_type": "execute_result"
    }
   ],
   "source": [
    "hello(a=[1,2,3,4,5],b=\"hema\",c=23.45)"
   ]
  },
  {
   "cell_type": "markdown",
   "id": "779459ab-ea19-48ed-b58e-a5e99cd52a34",
   "metadata": {},
   "source": [
    "Question 3:= \n",
    "What is an iterator in python? Name the method used to initialise the iterator object and the method \n",
    "used for iteration. Use these methods to print the first five elements of the given list [2, 4, 6, 8, 10, 12, 14, \n",
    "16, 18, 20].\n"
   ]
  },
  {
   "cell_type": "markdown",
   "id": "218ec0d3-a02b-4e06-af8e-7e40210a89df",
   "metadata": {},
   "source": [
    "Iterator in Python is an object that is used to iterate over iterable objects like lists, tuples, dicts, and sets. The iterator object is initialized using the iter() method. It uses the next() method for iteration."
   ]
  },
  {
   "cell_type": "code",
   "execution_count": 18,
   "id": "1081b833-9b34-40d5-a98d-387f6c2d54e3",
   "metadata": {},
   "outputs": [],
   "source": [
    "l1=[2,4,6,8,10,12,14,16,18,20]"
   ]
  },
  {
   "cell_type": "code",
   "execution_count": 19,
   "id": "87aea88f-d53a-4fee-9723-fe1c2824906e",
   "metadata": {},
   "outputs": [
    {
     "data": {
      "text/plain": [
       "[2, 4, 6, 8, 10, 12, 14, 16, 18, 20]"
      ]
     },
     "execution_count": 19,
     "metadata": {},
     "output_type": "execute_result"
    }
   ],
   "source": [
    "l1"
   ]
  },
  {
   "cell_type": "code",
   "execution_count": 20,
   "id": "47c7d46c-6aa2-4b41-ba08-60c60a9cf12e",
   "metadata": {},
   "outputs": [
    {
     "data": {
      "text/plain": [
       "list"
      ]
     },
     "execution_count": 20,
     "metadata": {},
     "output_type": "execute_result"
    }
   ],
   "source": [
    "type(l1)"
   ]
  },
  {
   "cell_type": "code",
   "execution_count": 21,
   "id": "b8b68962-f1a5-4c49-b8e5-e720e22a7a7a",
   "metadata": {},
   "outputs": [],
   "source": [
    "l2=iter(l1)"
   ]
  },
  {
   "cell_type": "code",
   "execution_count": 23,
   "id": "4e3d2cf5-7275-4e61-b34e-33b15f70f1be",
   "metadata": {},
   "outputs": [
    {
     "data": {
      "text/plain": [
       "list_iterator"
      ]
     },
     "execution_count": 23,
     "metadata": {},
     "output_type": "execute_result"
    }
   ],
   "source": [
    "type(l2)"
   ]
  },
  {
   "cell_type": "code",
   "execution_count": 24,
   "id": "acc8b557-3175-4a34-a6e0-183fe5a36f85",
   "metadata": {},
   "outputs": [
    {
     "name": "stdout",
     "output_type": "stream",
     "text": [
      "2\n",
      "4\n",
      "6\n",
      "8\n",
      "10\n"
     ]
    }
   ],
   "source": [
    "for i in range(5):\n",
    "    print(next(l2))"
   ]
  },
  {
   "cell_type": "markdown",
   "id": "5f00f4d5-2e13-4227-b034-926f68a01b68",
   "metadata": {},
   "source": [
    "Question 4:= "
   ]
  },
  {
   "cell_type": "markdown",
   "id": "c37884b7-57c8-4880-ae0d-682dea75d7fb",
   "metadata": {},
   "source": [
    "In Python, generator functions are those functions that, instead of returning a single value, return an iterable generator object. \n",
    "You can access or read the values returned from the generator function stored inside a generator object one-by-one using a simple loop or using next() or list() methods.\n",
    "\n",
    "yield keyword is used to create a generator function.\n",
    "A type of function that is memory efficient and can be used like an iterator object"
   ]
  },
  {
   "cell_type": "code",
   "execution_count": 25,
   "id": "65a283da-c442-4475-a0fa-59c11bbab278",
   "metadata": {},
   "outputs": [],
   "source": [
    "#example := \n",
    "def generator():\n",
    "    yield \" welcome to pwskills \""
   ]
  },
  {
   "cell_type": "code",
   "execution_count": 26,
   "id": "b4bcd578-c038-47b1-8ac0-5b48fe9a3477",
   "metadata": {},
   "outputs": [],
   "source": [
    "l1=generator()"
   ]
  },
  {
   "cell_type": "code",
   "execution_count": 27,
   "id": "24373803-9136-473e-8a36-683b672bb012",
   "metadata": {},
   "outputs": [
    {
     "name": "stdout",
     "output_type": "stream",
     "text": [
      "<class 'generator'>\n"
     ]
    }
   ],
   "source": [
    "print(type(l1))"
   ]
  },
  {
   "cell_type": "code",
   "execution_count": 28,
   "id": "e2c59edf-2881-495b-a93f-3283200ccdc8",
   "metadata": {},
   "outputs": [
    {
     "name": "stdout",
     "output_type": "stream",
     "text": [
      " welcome to pwskills \n"
     ]
    }
   ],
   "source": [
    "for i in l1:\n",
    "    print(i)"
   ]
  },
  {
   "cell_type": "markdown",
   "id": "631772e1-17a6-476a-bbd9-a6778f4695d6",
   "metadata": {},
   "source": [
    "Question 5:="
   ]
  },
  {
   "cell_type": "code",
   "execution_count": 80,
   "id": "c3900534-5cb4-42aa-924f-fafcb6699771",
   "metadata": {},
   "outputs": [],
   "source": [
    "def prime():\n",
    "    l1=[]\n",
    "    for i in range(2,1000):\n",
    "        for j in l1:\n",
    "            if i % j == 0:\n",
    "                break\n",
    "        else:\n",
    "            l1.append(i)\n",
    "            yield i"
   ]
  },
  {
   "cell_type": "code",
   "execution_count": 83,
   "id": "ba04ff84-5f11-4b60-b3fa-56180d0635d3",
   "metadata": {},
   "outputs": [],
   "source": [
    "l2=prime()"
   ]
  },
  {
   "cell_type": "code",
   "execution_count": 84,
   "id": "5070f627-f5cd-43e5-bd93-dfec9c2dfd96",
   "metadata": {},
   "outputs": [
    {
     "name": "stdout",
     "output_type": "stream",
     "text": [
      "2\n",
      "3\n",
      "5\n",
      "7\n",
      "11\n",
      "13\n",
      "17\n",
      "19\n",
      "23\n",
      "29\n",
      "31\n",
      "37\n",
      "41\n",
      "43\n",
      "47\n",
      "53\n",
      "59\n",
      "61\n",
      "67\n",
      "71\n"
     ]
    }
   ],
   "source": [
    "for i in range(20):\n",
    "    print(next(l2))"
   ]
  },
  {
   "cell_type": "markdown",
   "id": "64a92eca-ef01-4fc5-b480-9b72938619c2",
   "metadata": {},
   "source": [
    "Question 6:= "
   ]
  },
  {
   "cell_type": "code",
   "execution_count": 1,
   "id": "ef30496b-1e4d-44d1-b104-efdc241be268",
   "metadata": {},
   "outputs": [
    {
     "name": "stdin",
     "output_type": "stream",
     "text": [
      "enter the  number of element you are looking for :=  10\n"
     ]
    },
    {
     "name": "stdout",
     "output_type": "stream",
     "text": [
      "0\n",
      "1\n",
      "1\n",
      "2\n",
      "3\n",
      "5\n",
      "8\n",
      "13\n",
      "21\n",
      "34\n"
     ]
    }
   ],
   "source": [
    "number=int(input(\"enter the  number of element you are looking for := \"))\n",
    "a,b=0,1\n",
    "counter=0\n",
    "while counter < number :\n",
    "    print(a)\n",
    "    c = a+b\n",
    "    a=b\n",
    "    b=c\n",
    "    counter = counter + 1"
   ]
  },
  {
   "cell_type": "markdown",
   "id": "580ed38a-a403-4d54-ae4d-81b9b53acce7",
   "metadata": {},
   "source": [
    "Question 7:= "
   ]
  },
  {
   "cell_type": "code",
   "execution_count": 4,
   "id": "b180ea39-cd40-4d68-bb1c-d91faab7c73d",
   "metadata": {},
   "outputs": [
    {
     "name": "stdout",
     "output_type": "stream",
     "text": [
      "['p', 'w', 's', 'k', 'i', 'l', 'l', 's']\n"
     ]
    }
   ],
   "source": [
    "string=\"pwskills\"\n",
    "l1=[i for i in string]\n",
    "print(l1)"
   ]
  },
  {
   "cell_type": "markdown",
   "id": "3137a8e0-8120-4a20-88b4-bebf8615dd4c",
   "metadata": {},
   "source": [
    "question 8:= "
   ]
  },
  {
   "cell_type": "code",
   "execution_count": 8,
   "id": "80b38a39-6d29-4497-9915-ab5bc3d82ac5",
   "metadata": {},
   "outputs": [
    {
     "name": "stdin",
     "output_type": "stream",
     "text": [
      "Enter number: 121\n"
     ]
    },
    {
     "name": "stdout",
     "output_type": "stream",
     "text": [
      "The number is a palindrome!\n"
     ]
    }
   ],
   "source": [
    "n=int(input(\"Enter number:\"))\n",
    "l1=n\n",
    "rev=0\n",
    "while(n>0):\n",
    "    dig=n%10\n",
    "    rev=rev*10+dig\n",
    "    n=n//10\n",
    "if(l1==rev):\n",
    "    print(\"The number is a palindrome!\")\n",
    "else:\n",
    "    print(\"The number isn't a palindrome!\")"
   ]
  },
  {
   "cell_type": "markdown",
   "id": "5944c305-b3ed-4df5-85f4-0858929a2be4",
   "metadata": {},
   "source": [
    " Question 9 := "
   ]
  },
  {
   "cell_type": "code",
   "execution_count": 14,
   "id": "b1e64a87-f7cc-4f3d-9133-3db3726feb15",
   "metadata": {},
   "outputs": [
    {
     "data": {
      "text/plain": [
       "[1,\n",
       " 2,\n",
       " 3,\n",
       " 4,\n",
       " 5,\n",
       " 6,\n",
       " 7,\n",
       " 8,\n",
       " 9,\n",
       " 10,\n",
       " 11,\n",
       " 12,\n",
       " 13,\n",
       " 14,\n",
       " 15,\n",
       " 16,\n",
       " 17,\n",
       " 18,\n",
       " 19,\n",
       " 20,\n",
       " 21,\n",
       " 22,\n",
       " 23,\n",
       " 24,\n",
       " 25,\n",
       " 26,\n",
       " 27,\n",
       " 28,\n",
       " 29,\n",
       " 30,\n",
       " 31,\n",
       " 32,\n",
       " 33,\n",
       " 34,\n",
       " 35,\n",
       " 36,\n",
       " 37,\n",
       " 38,\n",
       " 39,\n",
       " 40,\n",
       " 41,\n",
       " 42,\n",
       " 43,\n",
       " 44,\n",
       " 45,\n",
       " 46,\n",
       " 47,\n",
       " 48,\n",
       " 49,\n",
       " 50,\n",
       " 51,\n",
       " 52,\n",
       " 53,\n",
       " 54,\n",
       " 55,\n",
       " 56,\n",
       " 57,\n",
       " 58,\n",
       " 59,\n",
       " 60,\n",
       " 61,\n",
       " 62,\n",
       " 63,\n",
       " 64,\n",
       " 65,\n",
       " 66,\n",
       " 67,\n",
       " 68,\n",
       " 69,\n",
       " 70,\n",
       " 71,\n",
       " 72,\n",
       " 73,\n",
       " 74,\n",
       " 75,\n",
       " 76,\n",
       " 77,\n",
       " 78,\n",
       " 79,\n",
       " 80,\n",
       " 81,\n",
       " 82,\n",
       " 83,\n",
       " 84,\n",
       " 85,\n",
       " 86,\n",
       " 87,\n",
       " 88,\n",
       " 89,\n",
       " 90,\n",
       " 91,\n",
       " 92,\n",
       " 93,\n",
       " 94,\n",
       " 95,\n",
       " 96,\n",
       " 97,\n",
       " 98,\n",
       " 99]"
      ]
     },
     "execution_count": 14,
     "metadata": {},
     "output_type": "execute_result"
    }
   ],
   "source": [
    "[i for i in range(1,100)]"
   ]
  },
  {
   "cell_type": "code",
   "execution_count": 13,
   "id": "10efe547-df12-43ea-9058-c56d46e3f0f4",
   "metadata": {},
   "outputs": [
    {
     "data": {
      "text/plain": [
       "[1,\n",
       " 3,\n",
       " 5,\n",
       " 7,\n",
       " 9,\n",
       " 11,\n",
       " 13,\n",
       " 15,\n",
       " 17,\n",
       " 19,\n",
       " 21,\n",
       " 23,\n",
       " 25,\n",
       " 27,\n",
       " 29,\n",
       " 31,\n",
       " 33,\n",
       " 35,\n",
       " 37,\n",
       " 39,\n",
       " 41,\n",
       " 43,\n",
       " 45,\n",
       " 47,\n",
       " 49,\n",
       " 51,\n",
       " 53,\n",
       " 55,\n",
       " 57,\n",
       " 59,\n",
       " 61,\n",
       " 63,\n",
       " 65,\n",
       " 67,\n",
       " 69,\n",
       " 71,\n",
       " 73,\n",
       " 75,\n",
       " 77,\n",
       " 79,\n",
       " 81,\n",
       " 83,\n",
       " 85,\n",
       " 87,\n",
       " 89,\n",
       " 91,\n",
       " 93,\n",
       " 95,\n",
       " 97,\n",
       " 99]"
      ]
     },
     "execution_count": 13,
     "metadata": {},
     "output_type": "execute_result"
    }
   ],
   "source": [
    "[i for i in l1 if i % 2 == 1]"
   ]
  },
  {
   "cell_type": "code",
   "execution_count": null,
   "id": "741ca3a6-91a5-469a-9f3a-d6229884a8e6",
   "metadata": {},
   "outputs": [],
   "source": []
  }
 ],
 "metadata": {
  "kernelspec": {
   "display_name": "Python 3 (ipykernel)",
   "language": "python",
   "name": "python3"
  },
  "language_info": {
   "codemirror_mode": {
    "name": "ipython",
    "version": 3
   },
   "file_extension": ".py",
   "mimetype": "text/x-python",
   "name": "python",
   "nbconvert_exporter": "python",
   "pygments_lexer": "ipython3",
   "version": "3.10.8"
  }
 },
 "nbformat": 4,
 "nbformat_minor": 5
}
