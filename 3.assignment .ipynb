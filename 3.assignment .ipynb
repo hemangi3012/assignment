{
 "cells": [
  {
   "cell_type": "markdown",
   "id": "6a2a039e-955b-476b-9719-044457ce5501",
   "metadata": {},
   "source": [
    "Question 1:= "
   ]
  },
  {
   "cell_type": "markdown",
   "id": "bd2f878a-73fb-41a9-bec7-54618e6848ed",
   "metadata": {},
   "source": [
    "The for loop is used when we know the number of iterations, that is, how many times a statement must be executed. That is why, when we initialize the for loop, we must define the ending point.\n",
    "\n",
    "A while loop is used when the number of iterations is unknown. It is used when we need to end the loop on a condition other than the number of repetitions. It is not necessary to know the condition ahead of time in this case. That is why we can use a boolean expression in the loop's initialization."
   ]
  },
  {
   "cell_type": "markdown",
   "id": "f28a2c63-239f-43af-ac52-6e1f177d6098",
   "metadata": {},
   "source": [
    "Exampl for loop := "
   ]
  },
  {
   "cell_type": "code",
   "execution_count": 5,
   "id": "45730b8a-2fc8-489f-9850-dfcc54ef1c0c",
   "metadata": {},
   "outputs": [
    {
     "name": "stdout",
     "output_type": "stream",
     "text": [
      "1\n",
      "2\n",
      "3\n",
      "4\n",
      "5\n",
      "6\n",
      "7\n",
      "8\n",
      "9\n",
      "10\n"
     ]
    }
   ],
   "source": [
    "for i in range(10):\n",
    "    print(i+1)"
   ]
  },
  {
   "cell_type": "markdown",
   "id": "b1b47c63-3757-4fcb-ab06-5596a8f8ec1a",
   "metadata": {},
   "source": [
    "example while loop:="
   ]
  },
  {
   "cell_type": "code",
   "execution_count": 6,
   "id": "94fbb4ae-defc-4216-bf0f-f38332cb19f7",
   "metadata": {},
   "outputs": [
    {
     "name": "stdout",
     "output_type": "stream",
     "text": [
      "0\n",
      "1\n",
      "2\n",
      "3\n",
      "4\n",
      "5\n",
      "6\n",
      "7\n",
      "8\n",
      "9\n"
     ]
    }
   ],
   "source": [
    "n=0\n",
    "while n<10:\n",
    "    print(n)\n",
    "    n+=1\n",
    "    "
   ]
  },
  {
   "cell_type": "markdown",
   "id": "0b907d50-cf7a-4d72-9567-6f007b011739",
   "metadata": {},
   "source": [
    "Question 2 :=  "
   ]
  },
  {
   "cell_type": "markdown",
   "id": "abf961d1-cf0d-46ab-99b1-0d3c1ff98bd6",
   "metadata": {},
   "source": [
    "******* sum using while loop ********"
   ]
  },
  {
   "cell_type": "code",
   "execution_count": 10,
   "id": "1b5bacec-62a0-4d6d-9951-d5ffa016c375",
   "metadata": {},
   "outputs": [
    {
     "name": "stdin",
     "output_type": "stream",
     "text": [
      "enter the value of n :=  10\n"
     ]
    },
    {
     "name": "stdout",
     "output_type": "stream",
     "text": [
      "sum:=  55\n",
      "producat :=  3628800\n"
     ]
    }
   ],
   "source": [
    "n=int(input(\"enter the value of n := \"))\n",
    "i=1\n",
    "sum=0\n",
    "pro=1\n",
    "while i<=n:\n",
    "    sum=sum+i\n",
    "    pro=pro*i\n",
    "    i=i+1\n",
    "print(\"sum:= \",sum)\n",
    "print(\"producat := \",pro)"
   ]
  },
  {
   "cell_type": "markdown",
   "id": "42cd2163-e300-493b-817e-18a3de747408",
   "metadata": {},
   "source": [
    "***** sum using for loop ********"
   ]
  },
  {
   "cell_type": "code",
   "execution_count": 13,
   "id": "f1e4eb32-eab9-4a7e-9592-103a76c0e32b",
   "metadata": {},
   "outputs": [
    {
     "name": "stdin",
     "output_type": "stream",
     "text": [
      "enter the value of n :=  10\n"
     ]
    },
    {
     "name": "stdout",
     "output_type": "stream",
     "text": [
      "\n",
      " sum  55\n",
      "\n",
      " product :=  3628800\n"
     ]
    }
   ],
   "source": [
    "n=int(input(\"enter the value of n := \"))\n",
    "sum=0\n",
    "pro=1\n",
    "for i in range(1,n+1):\n",
    "    sum =sum+i\n",
    "    pro*=i\n",
    "print(\"\\n sum \",sum)\n",
    "print(\"\\n product := \",pro)"
   ]
  },
  {
   "cell_type": "markdown",
   "id": "b1f271de-be7f-4113-a32b-9770c505cd45",
   "metadata": {},
   "source": [
    "Question 3:= "
   ]
  },
  {
   "cell_type": "markdown",
   "id": "f9a5ef10-4723-41ce-a578-17a8d8f79d36",
   "metadata": {},
   "source": [
    "Create a python program to compute the electricity bill for a household.\n",
    "The per-unit charges in rupees are as follows: For the first 100 units, the user will be charged Rs. 4.5 per \n",
    "unit, for the next 100 units, the user will be charged Rs. 6 per unit, and for the next 100 units, the user will \n",
    "be charged Rs. 10 per unit, After 300 units and above the user will be charged Rs. 20 per unit.\n",
    "You are required to take the units of electricity consumed in a month from the user as input.\n",
    "Your program must pass this test case: when the unit of electricity consumed by the user in a month is \n",
    "310, the total electricity bill should be 2250"
   ]
  },
  {
   "cell_type": "code",
   "execution_count": 2,
   "id": "4fd6258f-9086-4522-98e2-80f70d073c4a",
   "metadata": {},
   "outputs": [
    {
     "name": "stdin",
     "output_type": "stream",
     "text": [
      "\n",
      " enter the unit :=  310\n"
     ]
    },
    {
     "name": "stdout",
     "output_type": "stream",
     "text": [
      "2250.0\n"
     ]
    }
   ],
   "source": [
    "unit=int(input(\"\\n enter the unit := \"))\n",
    "bill=0\n",
    "if unit<=100:\n",
    "    bill=unit*4.5\n",
    "elif unit<=200:\n",
    "    bill=((100*4.5)+(unit-100)*6)\n",
    "elif unit<=300:\n",
    "    bill=((100*4.5)+(100*6)+(unit-200)*10)\n",
    "elif(unit>300):\n",
    "    bill=((100*4.5)+(100*6)+(100*10)+(unit-300)*20)\n",
    "print(bill)"
   ]
  },
  {
   "cell_type": "markdown",
   "id": "c95fe519-e8e4-4ed2-ae97-eed6b87857e9",
   "metadata": {},
   "source": [
    "Qestion 4:= "
   ]
  },
  {
   "cell_type": "markdown",
   "id": "69b34b56-a026-41f4-b10c-ec8245214d9e",
   "metadata": {},
   "source": [
    " Create a list of numbers from 1 to 100. Use for loop and while loop to calculate the cube of each number and if the cube of that number is divisible by 4 or 5 then append that number in a list and print that list.\n"
   ]
  },
  {
   "cell_type": "code",
   "execution_count": 6,
   "id": "3a41b01c-86c3-44d4-bc38-b92ae00f2ec6",
   "metadata": {},
   "outputs": [
    {
     "name": "stdout",
     "output_type": "stream",
     "text": [
      "[1, 2, 3, 4, 5, 6, 7, 8, 9, 10, 11, 12, 13, 14, 15, 16, 17, 18, 19, 20, 21, 22, 23, 24, 25, 26, 27, 28, 29, 30, 31, 32, 33, 34, 35, 36, 37, 38, 39, 40, 41, 42, 43, 44, 45, 46, 47, 48, 49, 50, 51, 52, 53, 54, 55, 56, 57, 58, 59, 60, 61, 62, 63, 64, 65, 66, 67, 68, 69, 70, 71, 72, 73, 74, 75, 76, 77, 78, 79, 80, 81, 82, 83, 84, 85, 86, 87, 88, 89, 90, 91, 92, 93, 94, 95, 96, 97, 98, 99, 100]\n",
      "[8, 64, 125, 216, 512, 1000, 1728, 2744, 3375, 4096, 5832, 8000, 10648, 13824, 15625, 17576, 21952, 27000, 32768, 39304, 42875, 46656, 54872, 64000, 74088, 85184, 91125, 97336, 110592, 125000, 140608, 157464, 166375, 175616, 195112, 216000, 238328, 262144, 274625, 287496, 314432, 343000, 373248, 405224, 421875, 438976, 474552, 512000, 551368, 592704, 614125, 636056, 681472, 729000, 778688, 830584, 857375, 884736, 941192, 1000000]\n"
     ]
    }
   ],
   "source": [
    "#Using for loop\n",
    "l=list(range(1,101))\n",
    "print(l)\n",
    "l1 = []\n",
    "for i in l:\n",
    "    cube = i**3\n",
    "    if cube%4 == 0 or cube%5 == 0:\n",
    "        l1.append(cube)\n",
    "print(l1)\n",
    "\n"
   ]
  },
  {
   "cell_type": "code",
   "execution_count": 8,
   "id": "1a20ed0e-1a14-4ee3-bd70-91d2091fd632",
   "metadata": {},
   "outputs": [
    {
     "name": "stdout",
     "output_type": "stream",
     "text": [
      "[1, 2, 3, 4, 5, 6, 7, 8, 9, 10, 11, 12, 13, 14, 15, 16, 17, 18, 19, 20, 21, 22, 23, 24, 25, 26, 27, 28, 29, 30, 31, 32, 33, 34, 35, 36, 37, 38, 39, 40, 41, 42, 43, 44, 45, 46, 47, 48, 49, 50, 51, 52, 53, 54, 55, 56, 57, 58, 59, 60, 61, 62, 63, 64, 65, 66, 67, 68, 69, 70, 71, 72, 73, 74, 75, 76, 77, 78, 79, 80, 81, 82, 83, 84, 85, 86, 87, 88, 89, 90, 91, 92, 93, 94, 95, 96, 97, 98, 99, 100]\n",
      "[8, 64, 125, 216, 512, 1000, 1728, 2744, 3375, 4096, 5832, 8000, 10648, 13824, 15625, 17576, 21952, 27000, 32768, 39304, 42875, 46656, 54872, 64000, 74088, 85184, 91125, 97336, 110592, 125000, 140608, 157464, 166375, 175616, 195112, 216000, 238328, 262144, 274625, 287496, 314432, 343000, 373248, 405224, 421875, 438976, 474552, 512000, 551368, 592704, 614125, 636056, 681472, 729000, 778688, 830584, 857375, 884736, 941192, 1000000]\n"
     ]
    }
   ],
   "source": [
    "#Using while loop\n",
    "l2=list(range(1,101))\n",
    "print(l2)\n",
    "l = []\n",
    "i = 1\n",
    "while i < 101:\n",
    "    cube = i**3\n",
    "    if cube%4 == 0 or cube%5 == 0:\n",
    "        l.append(cube)\n",
    "    i += 1\n",
    "print(l)"
   ]
  },
  {
   "cell_type": "markdown",
   "id": "76ea157c-a585-4f66-b867-233bfb3eb1a7",
   "metadata": {},
   "source": [
    "Question 5:= "
   ]
  },
  {
   "cell_type": "markdown",
   "id": "6a332d83-b781-4927-a54e-61f4559ad179",
   "metadata": {},
   "source": [
    "Write a program to filter count vowels in the below-given string. \n",
    "string = \"I want to become a data scientist\""
   ]
  },
  {
   "cell_type": "code",
   "execution_count": 3,
   "id": "07f0e03e-afeb-411c-9a48-728e71555336",
   "metadata": {},
   "outputs": [
    {
     "name": "stdout",
     "output_type": "stream",
     "text": [
      "11\n"
     ]
    }
   ],
   "source": [
    "string=\"i want to become data-scientist\"\n",
    "vowels=0\n",
    "for i in string:\n",
    "    if i==\"a\" or i==\"e\" or i==\"i\" or i==\"o\" or i==\"u\" or i==\"A\" or i==\"E\" or i==\"I\" or i==\"O\" or i==\"U\":\n",
    "        vowels=vowels+1\n",
    "print(vowels)"
   ]
  },
  {
   "cell_type": "code",
   "execution_count": null,
   "id": "e83d98d1-d3ad-4387-8ee9-253f5c5174ad",
   "metadata": {},
   "outputs": [],
   "source": []
  }
 ],
 "metadata": {
  "kernelspec": {
   "display_name": "Python 3 (ipykernel)",
   "language": "python",
   "name": "python3"
  },
  "language_info": {
   "codemirror_mode": {
    "name": "ipython",
    "version": 3
   },
   "file_extension": ".py",
   "mimetype": "text/x-python",
   "name": "python",
   "nbconvert_exporter": "python",
   "pygments_lexer": "ipython3",
   "version": "3.10.8"
  }
 },
 "nbformat": 4,
 "nbformat_minor": 5
}
