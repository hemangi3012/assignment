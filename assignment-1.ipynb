{
 "cells": [
  {
   "cell_type": "markdown",
   "id": "277f5457-6ddd-4475-85bb-300921deabb3",
   "metadata": {},
   "source": [
    "1.who developed python programming language ?"
   ]
  },
  {
   "cell_type": "markdown",
   "id": "4f9d570a-c9c8-4fe1-8851-8be3995205a9",
   "metadata": {},
   "source": [
    "--> Guido Van Rossum"
   ]
  },
  {
   "cell_type": "markdown",
   "id": "3d90c589-824a-41bd-be8b-340d835a189c",
   "metadata": {},
   "source": [
    "2.which type of programming does python support?"
   ]
  },
  {
   "cell_type": "markdown",
   "id": "f4180b25-bd0f-4071-abce-5c1c93b304fe",
   "metadata": {},
   "source": [
    "--> Object-oriented programming and structured programming are fully supported."
   ]
  },
  {
   "cell_type": "markdown",
   "id": "02a44226-d8b3-4bc3-8098-05a19d9bcf48",
   "metadata": {},
   "source": [
    "3. if python case sensitive when dealing with identifiers?"
   ]
  },
  {
   "cell_type": "markdown",
   "id": "e8543f90-ee33-446b-b662-56f4ff5b2092",
   "metadata": {},
   "source": [
    "--> yes , pyhton case sensitive language ."
   ]
  },
  {
   "cell_type": "markdown",
   "id": "8b0ab70c-2b56-482a-9e50-61a4c61a8508",
   "metadata": {},
   "source": [
    "4.what is correct exetension of the python file ?"
   ]
  },
  {
   "cell_type": "markdown",
   "id": "4931aeff-51a0-43e6-9929-1ae00a26a3ec",
   "metadata": {},
   "source": [
    "--> .py  and many author "
   ]
  },
  {
   "cell_type": "markdown",
   "id": "b07e05bb-473f-4f2d-92e8-25f4bf845125",
   "metadata": {},
   "source": [
    "5.is pyhton code compiled or interpreted?"
   ]
  },
  {
   "cell_type": "markdown",
   "id": "7d790525-4614-4ebf-9407-44e3eaa3c1cb",
   "metadata": {},
   "source": [
    "--> In various books of python programming, it is mentioned that python language is interpreted. But that is half correct the python program is first     compiled and then interpreted."
   ]
  },
  {
   "cell_type": "markdown",
   "id": "fabeb485-7f1b-49a4-b693-11d472d07d8e",
   "metadata": {},
   "source": [
    "6. name of few blocks of code used to define in python language?"
   ]
  },
  {
   "cell_type": "markdown",
   "id": "bcb397de-d137-4239-af2a-7426a6c81fad",
   "metadata": {},
   "source": [
    "--> module, a function body , class definition ."
   ]
  },
  {
   "cell_type": "markdown",
   "id": "6f1b2282-3de8-415d-b151-b2c08566e0d1",
   "metadata": {},
   "source": [
    "7. State a character used to give single-line comments in Python?\n"
   ]
  },
  {
   "cell_type": "markdown",
   "id": "1a6ec2a4-ab72-439e-ac20-00418541c0d9",
   "metadata": {},
   "source": [
    "--> # character used to give single-line comments in Python"
   ]
  },
  {
   "cell_type": "markdown",
   "id": "7cd5fceb-41ad-412d-b28c-7b542027d565",
   "metadata": {},
   "source": [
    "8. Mention functions which can help us to find the version of python that we are currently working on?\n"
   ]
  },
  {
   "cell_type": "markdown",
   "id": "af13ce21-7a03-4750-9fb3-d1e664af681e",
   "metadata": {},
   "source": [
    "-->Using sys.version method\n",
    "-->Using python_version() function\n",
    "-->Using Python -V command"
   ]
  },
  {
   "cell_type": "markdown",
   "id": "f477c689-1c33-48d7-be6f-53b1e0e87f1e",
   "metadata": {},
   "source": [
    "9. Python supports the creation of anonymous functions at runtime, using a construct called\n"
   ]
  },
  {
   "cell_type": "markdown",
   "id": "6ec8a538-244e-403b-adc0-693636d51172",
   "metadata": {},
   "source": [
    "-->  Python supports the creation of anonymous functions at runtime, using a construct called \"lambda\"\n"
   ]
  },
  {
   "cell_type": "markdown",
   "id": "129668e3-68f8-468b-9aeb-cf8ec1eb07e6",
   "metadata": {},
   "source": [
    "10. What does pip stand for python?\n"
   ]
  },
  {
   "cell_type": "markdown",
   "id": "7b7f8797-c6f7-43d3-a947-d67cc36e097f",
   "metadata": {},
   "source": [
    "--> Preferred installer program"
   ]
  },
  {
   "cell_type": "markdown",
   "id": "bf6fc5f5-b8fd-4af9-ae9a-1fd234ca8b5b",
   "metadata": {},
   "source": [
    " 11. Mention a few built-in functions in python?\n"
   ]
  },
  {
   "cell_type": "markdown",
   "id": "6c155e5e-3790-4a4b-9575-1722a6247207",
   "metadata": {},
   "source": [
    "--> print() , type() , input() , abs() , pow() , sum() , dir() , max() "
   ]
  },
  {
   "cell_type": "markdown",
   "id": "c0b400ef-3894-4c8b-9b83-afde7d6c6a18",
   "metadata": {},
   "source": [
    "12. What is the maximum possible length of an identifier in Python?\n"
   ]
  },
  {
   "cell_type": "markdown",
   "id": "32bab337-5fe5-4c14-bc6f-aae7bd5b8de5",
   "metadata": {},
   "source": [
    "Answer: An identifier can have a maximum length of 79 characters in Python."
   ]
  },
  {
   "cell_type": "markdown",
   "id": "7eb15318-6ddf-40ce-b234-bac669fb469a",
   "metadata": {},
   "source": [
    "13. What are the benefits of using Python?\n"
   ]
  },
  {
   "cell_type": "markdown",
   "id": "51d72f7b-f57e-4e95-91ce-b5df5796899e",
   "metadata": {},
   "source": [
    "-->1)Easy to Learn and Use. ...\n",
    "2) Mature and Supportive Python Community. ...\n",
    "3) Support from Renowned Corporate Sponsors. ...\n",
    "4) Hundreds of Python Libraries and Frameworks. ...\n",
    "5) Versatility, Efficiency, Reliability, and Speed. ...\n",
    "6) Big data, Machine Learning and Cloud Computing. ...\n",
    "7) First-choice Language."
   ]
  },
  {
   "cell_type": "markdown",
   "id": "a173ce64-afc5-4b33-9100-7e696ab6e7a0",
   "metadata": {},
   "source": [
    "14. How is memory managed in Python?\n"
   ]
  },
  {
   "cell_type": "markdown",
   "id": "656be7d2-dc4d-4237-9a25-776471bacf6d",
   "metadata": {},
   "source": [
    "-->Memory management in Python involves a private heap containing all Python objects and data structures. The management of this private heap is ensured internally by the Python memory manager."
   ]
  },
  {
   "cell_type": "markdown",
   "id": "d375b7e8-aeac-4aed-9e3b-63d692817261",
   "metadata": {},
   "source": [
    "15. How to install Python on Windows and set path variables?\n"
   ]
  },
  {
   "cell_type": "markdown",
   "id": "975a6d3c-8638-41d4-925a-4715633ec0ab",
   "metadata": {},
   "source": [
    "-->Install python from this link https://www.python.org/downloads/\n",
    "After this, install it on your PC. Look for the location where PYTHON has been installed on your PC using tge following command on your command prompt: cmd python.\n",
    "Then go to advanced system settings and add new variable and name it as PYTHON_NAME and paste the copied path.\n",
    "Then look for the path variable, select it's value and select edit\n",
    "Add a semicolon towards the end of the value if it's not present and then type %PYTHON_HOME%\n"
   ]
  },
  {
   "cell_type": "markdown",
   "id": "e7aeefb3-942d-479a-b61e-77a1cbe91af0",
   "metadata": {},
   "source": [
    "16. Is indentation required in python?"
   ]
  },
  {
   "cell_type": "markdown",
   "id": "1df6f387-e082-4ffc-b409-3e122c9aa280",
   "metadata": {},
   "source": [
    "--> yes , indentation is very important and to indicate a block of code ."
   ]
  }
 ],
 "metadata": {
  "kernelspec": {
   "display_name": "Python 3 (ipykernel)",
   "language": "python",
   "name": "python3"
  },
  "language_info": {
   "codemirror_mode": {
    "name": "ipython",
    "version": 3
   },
   "file_extension": ".py",
   "mimetype": "text/x-python",
   "name": "python",
   "nbconvert_exporter": "python",
   "pygments_lexer": "ipython3",
   "version": "3.10.8"
  }
 },
 "nbformat": 4,
 "nbformat_minor": 5
}
