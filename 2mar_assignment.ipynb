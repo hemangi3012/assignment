{
 "cells": [
  {
   "cell_type": "markdown",
   "id": "82f19c65-c4a8-414b-a3ca-40fd7c1ba025",
   "metadata": {},
   "source": [
    "Q1: What is Matplotlib? Why is it used? Name five plots that can be plotted using the Pyplot module of\n",
    "Matplotlib."
   ]
  },
  {
   "cell_type": "markdown",
   "id": "791dc0a0-7b23-43ef-a907-1c2e4dfcf49c",
   "metadata": {},
   "source": [
    "Human minds are more adaptive for the visual representation of data rather than textual data. We can easily understand things when they are visualized. It is better to represent the data through the graph where we can analyze the data more efficiently and make the specific decision according to data analysis."
   ]
  },
  {
   "cell_type": "code",
   "execution_count": null,
   "id": "96c0cf59-18f6-4435-bdca-9cf357801cad",
   "metadata": {},
   "outputs": [],
   "source": [
    "Line Plot\n",
    "Bar Plot\n",
    "Scatter Plot\n",
    "Pie Plot\n",
    "Area Plot\n",
    "Histogram Plot"
   ]
  },
  {
   "cell_type": "markdown",
   "id": "4ff42cf0-4a53-45d5-b06c-dc321f496c96",
   "metadata": {},
   "source": [
    "Q2: What is a scatter plot? Use the following code to generate data for x and y. Using this generated data\n",
    "plot a scatter plot."
   ]
  },
  {
   "cell_type": "markdown",
   "id": "0b2be7f6-e6c9-42da-9962-86ed5d30ec0d",
   "metadata": {},
   "source": [
    "A scatter plot is a type of data visualization that shows the relationship between different variables. This data is shown by placing various data points between an x- and y-axis. Essentially, each of these data points looks “scattered” around the graph, giving this type of data visualization its name."
   ]
  },
  {
   "cell_type": "markdown",
   "id": "ecc272f7-cd1e-4143-8c3d-fcea9b247cb0",
   "metadata": {},
   "source": [
    "import numpy as np\n",
    "np.random.seed(3)\n",
    "x = 3 + np.random.normal(0, 2, 50)\n",
    "y = 3 + np.random.normal(0, 2, len(x))\n",
    "Note: Also add title, xlabel, and ylabel to the plot."
   ]
  },
  {
   "cell_type": "code",
   "execution_count": 6,
   "id": "bd65ddd3-308b-46ae-a487-cb8e8c877c2a",
   "metadata": {},
   "outputs": [],
   "source": [
    "import numpy as np\n",
    "import matplotlib.pyplot as plt"
   ]
  },
  {
   "cell_type": "code",
   "execution_count": 7,
   "id": "3dadc236-94a1-40f9-bb55-7d056a34df51",
   "metadata": {},
   "outputs": [],
   "source": [
    "np.random.seed(3)"
   ]
  },
  {
   "cell_type": "code",
   "execution_count": 9,
   "id": "07579213-0563-41a3-b417-63f1318420fa",
   "metadata": {},
   "outputs": [
    {
     "data": {
      "text/plain": [
       "array([ 6.57725695,  3.8730197 ,  3.19299494, -0.72698541,  2.44522359,\n",
       "        2.29048204,  2.83451704,  1.74599865,  2.91236366,  2.04556394,\n",
       "        0.37227049,  4.76924476,  4.76263608,  6.41914613,  3.10006728,\n",
       "        2.19064517,  1.9092801 , -0.09295463,  4.96473487,  0.79786474,\n",
       "        0.62990695,  2.5887002 ,  5.97229671,  3.47343253,  0.95242972,\n",
       "        1.5740136 ,  4.25048993,  2.67897327,  1.4623273 ,  2.53993856,\n",
       "        4.49011253,  6.95222157,  0.51175334,  1.74716618,  1.39246781,\n",
       "       -1.83816635,  1.15241596,  0.95224848,  5.24795592,  2.73617153,\n",
       "       -0.24657089,  4.2933509 ,  2.28745848, -0.48628207,  1.80670072,\n",
       "        1.82281124,  1.2522354 ,  3.05942763, -1.49651554,  2.46447627])"
      ]
     },
     "execution_count": 9,
     "metadata": {},
     "output_type": "execute_result"
    }
   ],
   "source": [
    "x"
   ]
  },
  {
   "cell_type": "code",
   "execution_count": 10,
   "id": "21273526-5898-40ac-b755-ea37a67c90c3",
   "metadata": {},
   "outputs": [
    {
     "data": {
      "text/plain": [
       "array([ 5.02636688,  4.70559568,  5.216375  ,  5.23878131,  5.97508626,\n",
       "        0.76339863,  4.69166681, -0.72177906,  1.79422979, -0.82894409,\n",
       "        5.09629502,  5.66747564,  2.60517064,  6.54929006,  1.65054498,\n",
       "        3.30123373,  3.30589141,  0.87160945,  3.87589322,  6.87795692,\n",
       "        0.95013825,  4.79867689,  2.6909863 ,  6.53925461,  3.9675767 ,\n",
       "        4.3524328 ,  4.28632656,  3.49817341,  0.20847299,  5.78332582,\n",
       "        0.25866197,  3.47712638,  4.22815418,  1.32417545,  3.29012643,\n",
       "        5.33576457,  2.95179106,  1.22268516, -2.8314755 ,  1.05631899,\n",
       "        1.81784252,  1.96716526,  1.08000764,  3.75459047,  1.85058316,\n",
       "        2.78109133,  4.3581432 ,  1.28912566,  2.39958785,  7.31629868])"
      ]
     },
     "execution_count": 10,
     "metadata": {},
     "output_type": "execute_result"
    }
   ],
   "source": [
    "y"
   ]
  },
  {
   "cell_type": "code",
   "execution_count": 11,
   "id": "44f120ac-79ba-4f6b-b6a5-c46fcf813d5b",
   "metadata": {},
   "outputs": [
    {
     "data": {
      "text/plain": [
       "Text(0.5, 1.0, 'random data')"
      ]
     },
     "execution_count": 11,
     "metadata": {},
     "output_type": "execute_result"
    },
    {
     "data": {
      "image/png": "[encoded data removed]",
      "text/plain": [
       "<Figure size 640x480 with 1 Axes>"
      ]
     },
     "metadata": {},
     "output_type": "display_data"
    }
   ],
   "source": [
    "x = 3 + np.random.normal(0, 2, 50)\n",
    "y = 3 + np.random.normal(0, 2, len(x))\n",
    "plt.scatter(x,y)\n",
    "plt.xlabel(\"x axis\")\n",
    "plt.ylabel(\"y axis\")\n",
    "plt.title(\"random data\")"
   ]
  },
  {
   "cell_type": "markdown",
   "id": "a378ac8a-8034-4e9a-82c1-8912b9663a99",
   "metadata": {},
   "source": [
    "Q3: Why is the subplot() function used? Draw four line plots using the subplot() function."
   ]
  },
  {
   "cell_type": "markdown",
   "id": "668d33d6-d9c8-4bb2-a132-d0e42444feff",
   "metadata": {},
   "source": [
    "Use the following data:\n",
    "import numpy as np\n",
    "For line 1: x = np.array([0, 1, 2, 3, 4, 5]) and y = np.array([0, 100, 200, 300, 400, 500])\n",
    "For line 2: x = np.array([0, 1, 2, 3, 4, 5]) and y = np.array([50, 20, 40, 20, 60, 70])\n",
    "For line 3: x = np.array([0, 1, 2, 3, 4, 5]) and y = np.array([10, 20, 30, 40, 50, 60])\n",
    "For line 4: x = np.array([0, 1, 2, 3, 4, 5]) and y = np.array([200, 350, 250, 550, 450, 150])"
   ]
  },
  {
   "cell_type": "markdown",
   "id": "8eee7c00-f6ec-4463-81cd-282e5bdd7e2f",
   "metadata": {},
   "source": [
    "subplot divides the current figure into rectangular panes that are numbered row-wise. Each pane contains an axes. Subsequent plots are output to the current pane. subplot(m,n,p) creates an axes in the p -th pane of a figure divided into an m -by- n matrix of rectangular panes."
   ]
  },
  {
   "cell_type": "code",
   "execution_count": null,
   "id": "b2d8c627-419c-49b5-8147-e4d06739045c",
   "metadata": {},
   "outputs": [],
   "source": [
    "fig,axs = plt.subplots(2,2)\n",
    "#Line 1 \n",
    "x1 = np.array([0, 1, 2, 3, 4, 5])\n",
    "y1 = np.array([0, 100, 200, 300, 400, 500])\n",
    "axs[0,0].plot(x1,y1)\n",
    "plt.title('Line 1')\n",
    "\n",
    "x2 = np.array([0, 1, 2, 3, 4, 5]) \n",
    "y2 = np.array([50, 20, 40, 20, 60, 70])\n",
    "axs[0,1].plot(x2,y2)\n",
    "axs[0,1].set_title('Line 2')\n",
    "\n",
    "x3 = np.array([0, 1, 2, 3, 4, 5])\n",
    "y3= np.array([10, 20, 30, 40, 50, 60])\n",
    "axs[1,0].plot(x2,y2)\n",
    "axs[0,1].set_title('Line 2')"
   ]
  },
  {
   "cell_type": "markdown",
   "id": "59b509c3-1197-4040-af30-ac4e108223ee",
   "metadata": {},
   "source": [
    "Q4: What is a bar plot? Why is it used? Using the following data plot a bar plot and a horizontal bar plot."
   ]
  },
  {
   "cell_type": "markdown",
   "id": "79568d78-dac7-49e7-afd5-e82ac4d9b3e1",
   "metadata": {},
   "source": [
    "A barplot (or barchart) is one of the most common types of graphic. It shows the relationship between a numeric and a categoric variable. Each entity of the categoric variable is represented as a bar. The size of the bar represents its numeric value."
   ]
  },
  {
   "cell_type": "markdown",
   "id": "56e05aaf-1050-4226-ab50-5f5eb4153fc4",
   "metadata": {},
   "source": [
    "Bar charts should be used when you are showing segments of information. Vertical bar charts are useful to compare different categorical or discrete variables, such as age groups, classes, schools, etc., as long as there are not too many categories to compare. They are also very useful for time series data."
   ]
  },
  {
   "cell_type": "code",
   "execution_count": 13,
   "id": "f86ceabd-75e7-4214-99e8-332606b7b5d5",
   "metadata": {},
   "outputs": [
    {
     "data": {
      "text/plain": [
       "Text(0.5, 1.0, 'bar plot')"
      ]
     },
     "execution_count": 13,
     "metadata": {},
     "output_type": "execute_result"
    },
    {
     "data": {
      "image/png": "[encoded data removed]",
      "text/plain": [
       "<Figure size 640x480 with 1 Axes>"
      ]
     },
     "metadata": {},
     "output_type": "display_data"
    }
   ],
   "source": [
    "import numpy as np\n",
    "import matplotlib.pyplot as plt\n",
    "company = np.array([\"Apple\", \"Microsoft\", \"Google\", \"AMD\"])\n",
    "profit = np.array([3000, 8000, 1000, 10000])\n",
    "plt.bar(company,profit)\n",
    "plt.xlabel(\"company name\")\n",
    "plt.ylabel(\"profit \")\n",
    "plt.title(\"bar plot\")"
   ]
  },
  {
   "cell_type": "markdown",
   "id": "030ca2b4-f3a1-4b0e-b3a8-c577f1497a4b",
   "metadata": {},
   "source": [
    "Q5: What is a box plot? Why is it used? Using the following data plot a box plot."
   ]
  },
  {
   "cell_type": "markdown",
   "id": "32d7f553-d476-423d-924b-5e7fd9c9e943",
   "metadata": {},
   "source": [
    "A box plot is a special type of diagram that shows the quartiles in a box and the line extending from the lowest to the highest value."
   ]
  },
  {
   "cell_type": "markdown",
   "id": "dd534e4c-5750-45c7-933e-344b81e8bfb9",
   "metadata": {},
   "source": [
    "Box plots are used to show distributions of numeric data values, especially when you want to compare them between multiple groups. They are built to provide high-level information at a glance, offering general information about a group of data's symmetry, skew, variance, and outliers."
   ]
  },
  {
   "cell_type": "code",
   "execution_count": 2,
   "id": "77e65aa2-5e3f-4224-ba85-e7a6a3bd5933",
   "metadata": {},
   "outputs": [],
   "source": [
    "import matplotlib.pyplot as plt\n",
    "import numpy as np\n",
    " "
   ]
  },
  {
   "cell_type": "code",
   "execution_count": 6,
   "id": "f4ddf0cf-5bac-4ed6-a5a8-c89bf34182e1",
   "metadata": {},
   "outputs": [
    {
     "data": {
      "image/png": "[encoded data removed]",
      "text/plain": [
       "<Figure size 640x480 with 1 Axes>"
      ]
     },
     "metadata": {},
     "output_type": "display_data"
    }
   ],
   "source": [
    "box1 = np.random.normal(100, 10, 200)\n",
    "box2 = np.random.normal(90, 20, 200)\n",
    "data = [box1,box2]\n",
    "fig, ax = plt.subplots()\n",
    "ax.boxplot(data)\n",
    "ax.set_xticklabels(['Box 1', 'Box 2'])\n",
    "ax.set_ylabel('Value')\n",
    "ax.set_title('box plot example')\n",
    "plt.show()"
   ]
  },
  {
   "cell_type": "code",
   "execution_count": null,
   "id": "6eefac16-0211-4a2f-b823-6391979a9e94",
   "metadata": {},
   "outputs": [],
   "source": []
  }
 ],
 "metadata": {
  "kernelspec": {
   "display_name": "Python 3 (ipykernel)",
   "language": "python",
   "name": "python3"
  },
  "language_info": {
   "codemirror_mode": {
    "name": "ipython",
    "version": 3
   },
   "file_extension": ".py",
   "mimetype": "text/x-python",
   "name": "python",
   "nbconvert_exporter": "python",
   "pygments_lexer": "ipython3",
   "version": "3.10.8"
  }
 },
 "nbformat": 4,
 "nbformat_minor": 5
}
