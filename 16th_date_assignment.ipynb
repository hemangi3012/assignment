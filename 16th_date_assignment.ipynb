{
 "cells": [
  {
   "cell_type": "markdown",
   "id": "3f6def41-a459-4926-9657-dfe98942900a",
   "metadata": {},
   "source": [
    "Q1. What is a database? Differentiate between SQL and NoSQL databases.\n"
   ]
  },
  {
   "cell_type": "markdown",
   "id": "3e573272-129a-4874-8279-a841cfd40bf7",
   "metadata": {},
   "source": [
    "A database is an organized collection of data, so that it can be easily accessed and managed.\n",
    "You can organize data into tables, rows, columns, and index it to make it easier to find relevant information.\n",
    "Database handlers create a database in such a way that only one set of software program provides access of data to all the users.\n",
    "\n",
    "\n",
    "           SQL                                                    \t                                                       NoSQL\n",
    "RELATIONAL DATABASE MANAGEMENT SYSTEM (RDBMS)\t                                                     Non-relational or distributed database system.\n",
    "These databases have fixed or static or predefined schema\t                                         They have dynamic schema\n",
    "These databases are not suited for hierarchical data storage.\t                                     These databases are best suited for hierarchical data storage.\n",
    "These databases are best suited for complex queries\t                                                 These databases are not so good for complex queries\n",
    "Vertically Scalable\t                                                                                 Horizontally scalable\n",
    "Follows ACID property\t                                                                             Follows CAP(consistency, availability, partition tolerance)\n",
    "Examples: MySQL, PostgreSQL, Oracle, MS-SQL Server, etc\t                                             Examples: MongoDB, GraphQL, HBase, Neo4j, Cassandra, etc"
   ]
  },
  {
   "cell_type": "markdown",
   "id": "ad8a31bb-eabd-4ad8-ba8b-f2f68bc07847",
   "metadata": {},
   "source": [
    "Q2. What is DDL? Explain why CREATE, DROP, ALTER, and TRUNCATE are used with an example.\n"
   ]
  },
  {
   "cell_type": "markdown",
   "id": "2c72e038-50ce-485c-8169-35f5f75892c0",
   "metadata": {},
   "source": [
    "Data Definition Language(DDL) is a subset of SQL and a part of DBMS(Database Management System). DDL consist of Commands to commands like CREATE, ALTER, TRUNCATE and DROP. These commands are used to create or modify the tables in SQL.\n",
    "\n",
    "DDL Commands :\n",
    "In this section, We will cover the following DDL commands as follows.\n",
    "\n",
    "Create\n",
    "Alter \n",
    "truncate\n",
    "drop\n",
    "Let’s discuss it one by one.\n",
    "\n",
    "\n",
    "Command-1 :\n",
    "CREATE :\n",
    "            This command is used to create a new table in SQL. The user has to give information like table name, column names, and their datatypes.\n",
    "\n",
    "Syntax –\n",
    "\n",
    "            CREATE TABLE table_name\n",
    "            (\n",
    "            column_1 datatype,\n",
    "            column_2 datatype,\n",
    "            column_3 datatype,\n",
    "            ....\n",
    "            );\n",
    "Example –\n",
    "We need to create a table for storing Student information of a particular College. Create syntax would be as below.\n",
    "\n",
    "CREATE TABLE Student_info\n",
    "(\n",
    "College_Id number(2),\n",
    "College_name varchar(30),\n",
    "Branch varchar(10)\n",
    ");\n",
    "Command-2 :\n",
    "ALTER :\n",
    "        This command is used to add, delete or change columns in the existing table. The user needs to know the existing table name and can do add, delete or modify tasks easily.\n",
    "\n",
    "Syntax –\n",
    "Syntax to add a column to an existing table.\n",
    "\n",
    "            ALTER TABLE table_name\n",
    "            ADD column_name datatype;\n",
    "Example –\n",
    "In our Student_info table, we want to add a new column for CGPA. The syntax would be as below as follows.\n",
    "\n",
    "ALTER TABLE Student_info\n",
    "ADD CGPA number;\n",
    "Command-3 :\n",
    "TRUNCATE :\n",
    "This command is used to remove all rows from the table, but the structure of the table still exists.\n",
    "\n",
    "Syntax –\n",
    "Syntax to remove an existing table.\n",
    "\n",
    "            TRUNCATE TABLE table_name;\n",
    "Example –\n",
    "The College Authority wants to remove the details of all students for new batches but wants to keep the table structure. The command they can use is as follows.\n",
    "\n",
    "TRUNCATE TABLE Student_info;\n",
    "Command-4 :\n",
    "DROP :\n",
    "This command is used to remove an existing table along with its structure from the Database.\n",
    "\n",
    "Syntax –\n",
    "            Syntax to drop an existing table.\n",
    "\n",
    "DROP TABLE table_name;\n",
    "Example –\n",
    "If the College Authority wants to change their Database by deleting the Student_info Table. \n",
    "\n",
    "DROP TABLE Student_info;\n"
   ]
  },
  {
   "cell_type": "markdown",
   "id": "96f9a609-71de-4734-899c-2ab8d7cafa29",
   "metadata": {},
   "source": [
    "Q3. What is DML? Explain INSERT, UPDATE, and DELETE with an example.\n"
   ]
  },
  {
   "cell_type": "markdown",
   "id": "e5e76720-cf71-435e-a49b-cf1ee3d6017a",
   "metadata": {},
   "source": [
    "DML is an abbreviation of Data Manipulation Language.\n",
    "\n",
    "The DML commands in Structured Query Language change the data present in the SQL database. We can easily access, store, modify, update and delete the existing records from the database using DML commands.\n",
    "\n",
    "Following are the four main DML commands in SQL:\n",
    "\n",
    "SELECT Command\n",
    "INSERT Command\n",
    "UPDATE Command\n",
    "DELETE Command\n",
    "\n",
    "1 := INSERT is another most important data manipulation command in Structured Query Language, which allows users to insert data in database tables.\n",
    "\n",
    "    Syntax of INSERT Command\n",
    "\n",
    "    INSERT INTO TABLE_NAME ( column_Name1 , column_Name2 , column_Name3 , .... column_NameN )  VALUES (value_1, value_2, value_3, .... value_N ) ;\n",
    "    \n",
    "2 := UPDATE is another most important data manipulation command in Structured Query Language, which allows users to update or modify the existing data in database tables.\n",
    "\n",
    "    Syntax of UPDATE Command\n",
    "\n",
    "    UPDATE Table_name SET [column_name1= value_1, ….., column_nameN = value_N] WHERE CONDITION;\n",
    "    \n",
    "3 := DELETE is a DML command which allows SQL users to remove single or multiple existing records from the database tables.\n",
    "    This command of Data Manipulation Language does not delete the stored data permanently from the database. We use the WHERE clause with the DELETE command to select           specific rows from the table.\n",
    "\n",
    "    Syntax of DELETE Command\n",
    "\n",
    "    DELETE FROM Table_Name WHERE condition;"
   ]
  },
  {
   "cell_type": "markdown",
   "id": "1ac0e9d1-2512-47c6-8a49-afa5bd50ac90",
   "metadata": {},
   "source": [
    "Q4. What is DQL? Explain SELECT with an example.\n"
   ]
  },
  {
   "cell_type": "markdown",
   "id": "7396a6c8-c493-4c51-a85c-85e1a3a9fdeb",
   "metadata": {},
   "source": [
    "DQL (Data Query Language):\n",
    "DQL statements are used for performing queries on the data within schema objects. The purpose of the DQL Command is to get some schema relation based on the query passed to it. We can define DQL as follows it is a component of SQL statement that allows getting data from the database and imposing order upon it. It includes the SELECT statement. This command allows getting the data out of the database to perform operations with it. When a SELECT is fired against a table or tables the result is compiled into a further temporary table, which is displayed or perhaps received by the program i.e. a front-end.\n",
    "\n",
    "List of DQL: \n",
    "\n",
    "SELECT: It is used to retrieve data from the database.\n",
    "\n",
    "    The SELECT Statement in SQL is used to retrieve or fetch data from a database. We can fetch either the entire table or according to some specified rules. The data returned is stored in a result table.\n",
    "\n",
    "        SELECT column1,column2 FROM table_name \n",
    "        column1 , column2: names of the fields of the table\n",
    "        table_name: from where we want to apply query"
   ]
  },
  {
   "cell_type": "markdown",
   "id": "0d4f04fe-9484-47de-9839-2d2f3e53ba9a",
   "metadata": {},
   "source": [
    "Q5. Explain Primary Key and Foreign Key.\n"
   ]
  },
  {
   "cell_type": "markdown",
   "id": "0ac65780-bcd1-4c88-a8b1-c95d9ceb1c89",
   "metadata": {},
   "source": [
    "PRIMARY KEY Constraint :\n",
    "• The PRIMARY KEY constraints uniquely identifies each record in a \n",
    "table.\n",
    "• Primary keys must contain UNIQUE values, and cannot contain NULL \n",
    "values.\n",
    "• PRIMARY KEY on CREATE TABLE :\n",
    "        CREATE TABLE Persons (\n",
    "        ID int NOT NULL,\n",
    "        LastName varchar(255) NOT NULL,\n",
    "        FirstName varchar(255),\n",
    "        Age int,\n",
    "        PRIMARY KEY (ID)\n",
    "        );\n",
    "• PRIMARY KEY on ALTER TABLE :\n",
    "• To create a PRIMARY KEY constraint on the “ID” column when the \n",
    "table is already created, use the following SQL : \n",
    "        ALTER TABLE Persons\n",
    "        ADD PRIMARY KEY (ID);\n",
    "• DROP a PRIMARY KEY Constraint :\n",
    "• To drop a PRIMARY KEY constraint, use the following SQL :\n",
    "        ALTER TABLE Persons\n",
    "        DROP PRIMARY KEY;\n",
    "• Drop NOT NULL Constraint :\n",
    "        ALTER TABLE Persons MODIFY COLUMN ID int null;\n",
    "        FOREIGN KEY Constraint :\n",
    "• The FOREIGN KEY constraint is used to prevent actions that would destroy \n",
    "links between tables.\n",
    "• A FOREIGN KEY is a field in one table, that refers to the PRIMARY KEY.\n",
    "• The table with the foreign key is called the child table, and the table with \n",
    "the primary key is called the referenced or parent table.\n",
    "\n",
    "\n",
    "• FOREIGN KEY on CREATE TABLE :\n",
    "• The following SQL creates a FOREIGN KEY on the “PersonID” column when \n",
    "the “Orders” table is created:\n",
    "• CREATE TABLE Orders (\n",
    "OrderID int NOT NULL,\n",
    "OrderNumber int NOT NULL,\n",
    "PersonID int,\n",
    "PRIMARY KEY (OrderID),\n",
    "FOREIGN KEY (PersonID) REFERENCES Persons(PersonID)\n",
    ");\n",
    "• FOREIGN KEY on ALTER TABLE :\n",
    "• To create a FOREIGN KEY constraint on the “personid” column when \n",
    "the “orders” table is already created, use the following SQL :\n",
    "• Syntax: \n",
    "    ALTER TABLE Orders\n",
    "    ADD FOREIGN KEY (PersonID) REFERENCES Persons(PersonID)"
   ]
  },
  {
   "cell_type": "markdown",
   "id": "d5d5218d-ff73-45ae-871b-0ccfd52da9b9",
   "metadata": {},
   "source": [
    "Q6. Write a python code to connect MySQL to python. Explain the cursor() and execute() method.\n",
    "\n"
   ]
  },
  {
   "cell_type": "markdown",
   "id": "6ce7ed5f-fd33-4cbb-959d-9c06e961b3a1",
   "metadata": {},
   "source": [
    "import mysql.connector\n",
    "mydb = mysql.connector.connect(\n",
    "  host=\"localhost\",\n",
    "  user=\"abc\",\n",
    "  password=\"password\"\n",
    ")\n",
    "mycursor = mydb.cursor()\n",
    "#mycursor.execute(\"SELECT * from test2.test_table\")\n",
    "mycursor.execute(\"SELECT c1,c5 from test2.test_table\")\n",
    "for i in mycursor.fetchall():\n",
    "    print(i)\n",
    "mydb.close()\n",
    "\n",
    "1 := cursor() \n",
    "\n",
    "A cursor keeps track of the position in the result set, and allows you to perform multiple operations row by row against a result set, with or without returning to the original table. In other words, cursors conceptually return a result set based on tables within the databases.\n",
    "\n",
    "2 := execute()\n",
    "\n",
    "exec() function is used for the dynamic execution of Python programs which can either be a string or object code. If it is a string, the string is parsed as a suite of Python statements which is then executed unless a syntax error occurs and if it is an object code, it is simply executed."
   ]
  },
  {
   "cell_type": "markdown",
   "id": "00cbf380-bd38-4708-9286-a2f3a0eeb42b",
   "metadata": {},
   "source": [
    "Q7. Give the order of execution of SQL clauses in an SQL query."
   ]
  },
  {
   "cell_type": "code",
   "execution_count": null,
   "id": "1d2c4796-12fa-4a26-83cf-752da2666028",
   "metadata": {},
   "outputs": [],
   "source": []
  }
 ],
 "metadata": {
  "kernelspec": {
   "display_name": "Python 3 (ipykernel)",
   "language": "python",
   "name": "python3"
  },
  "language_info": {
   "codemirror_mode": {
    "name": "ipython",
    "version": 3
   },
   "file_extension": ".py",
   "mimetype": "text/x-python",
   "name": "python",
   "nbconvert_exporter": "python",
   "pygments_lexer": "ipython3",
   "version": "3.10.8"
  }
 },
 "nbformat": 4,
 "nbformat_minor": 5
}
