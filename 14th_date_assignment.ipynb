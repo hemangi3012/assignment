{
 "cells": [
  {
   "cell_type": "markdown",
   "id": "19431ad4-0ae1-4aa3-9524-9987d53f7592",
   "metadata": {},
   "source": [
    "Q1. What is multithreading in python? Why is it used? Name the module used to handle threads in python.\n"
   ]
  },
  {
   "cell_type": "markdown",
   "id": "dcd66b77-3784-4142-a8e0-9fb386b465cd",
   "metadata": {},
   "source": [
    "A thread is the smallest unit of a program or process executed independently or scheduled by the Operating System. In the computer system, an Operating System achieves multitasking by dividing the process into threads. A thread is a lightweight process that ensures the execution of the process separately on the system. In Python 3, when multiple processors are running on a program, each processor runs simultaneously to execute its tasks separately\n",
    "\n",
    "It is a very useful technique for time-saving and improving the performance of an application. Multithreading allows the programmer to divide application tasks into sub-tasks and simultaneously run them in a program. It allows threads to communicate and share resources such as files, data, and memory to the same processor. Furthermore, it increases the user's responsiveness to continue running a program even if a part of the application is the length or blocked.\n",
    "\n",
    "name of moduale := import threading to handla thread in python "
   ]
  },
  {
   "cell_type": "markdown",
   "id": "1adc4cef-efa7-4545-8abd-c35afd95b00f",
   "metadata": {},
   "source": [
    "Q2. Why threading module used? Write the use of the following functions:\n",
    "\n",
    "1. activeCount()\n",
    "\n",
    "2. currentThread()\n",
    "\n",
    "3. enumerate()\n"
   ]
  },
  {
   "cell_type": "markdown",
   "id": "0e1cff55-f85a-4134-a4aa-ba271fc4509a",
   "metadata": {},
   "source": [
    "we use is module because The threading module exposes all the methods of the thread module and provides some additional methods\n",
    "\n",
    "threading.activeCount() − Returns the number of thread objects that are active.\n",
    "threading.currentThread() − Returns the number of thread objects in the caller's thread control.\n",
    "threading.enumerate() − Returns a list of all thread objects that are currently active."
   ]
  },
  {
   "cell_type": "markdown",
   "id": "39b4c6fb-ca1f-4137-8915-d1b2619ad597",
   "metadata": {},
   "source": [
    "Q3. Explain the following functions:\n",
    "\n",
    "1. run()\n",
    "\n",
    "2. start()\n",
    "\n",
    "3. join()\n",
    "\n",
    "4. isAlive()\n",
    "\n"
   ]
  },
  {
   "cell_type": "markdown",
   "id": "cc8b4804-1552-4f02-8787-c469343c905c",
   "metadata": {},
   "source": [
    "run()  − The run() method is the entry point for a thread.\n",
    "start()  − The start() method starts a thread by calling the run method.\n",
    "join([time])  − The join() waits for threads to terminate.\n",
    "isAlive()  − The isAlive() method checks whether a thread is still executing."
   ]
  },
  {
   "cell_type": "markdown",
   "id": "3b829e69-ba9c-434d-920d-dcbbba8f0b8a",
   "metadata": {},
   "source": [
    "Q4. Write a python program to create two threads. Thread one must print the list of squares and thread two must print the list of cubes.\n"
   ]
  },
  {
   "cell_type": "code",
   "execution_count": 7,
   "id": "791e045d-a11e-4208-bbca-e49c77c445ba",
   "metadata": {},
   "outputs": [
    {
     "name": "stdout",
     "output_type": "stream",
     "text": [
      "Square: 100\n",
      "Cube: 1000\n",
      "DONE\n"
     ]
    }
   ],
   "source": [
    "import threading\n",
    " \n",
    "def print_cube(num):\n",
    "\n",
    "    # function to print cube of given num\n",
    "\n",
    "    print(\"Cube: {}\" .format(num * num * num))\n",
    " \n",
    " \n",
    "\n",
    "def print_square(num):\n",
    "\n",
    "    # function to print square of given num\n",
    "\n",
    "    print(\"Square: {}\" .format(num * num))\n",
    "if __name__ ==\"__main__\":\n",
    "\n",
    "    # creating thread\n",
    "\n",
    "    t1 = threading.Thread(target=print_square, args=(10,))\n",
    "\n",
    "    t2 = threading.Thread(target=print_cube, args=(10,))\n",
    " \n",
    "\n",
    "    # starting thread 1\n",
    "\n",
    "    t1.start()\n",
    "\n",
    "    # starting thread 2\n",
    "\n",
    "    t2.start()\n",
    " \n",
    "\n",
    "    # wait until thread 1 is completely executed\n",
    "\n",
    "    t1.join()\n",
    "    t2.join()\n",
    "     \n",
    "    print(\"DONE\")\n"
   ]
  },
  {
   "cell_type": "markdown",
   "id": "c3ff2a5d-6dee-43e6-bedf-7acb13ef6cd8",
   "metadata": {},
   "source": [
    "Q5. State advantages and disadvantages of multithreading.\n",
    "\n"
   ]
  },
  {
   "cell_type": "markdown",
   "id": "f7fb34be-6df2-48c0-91b9-936413b1cc09",
   "metadata": {},
   "source": [
    "*Following are some of the common advantages of multithreading:\n",
    "\n",
    "-Enhanced performance by decreased development time\n",
    "-Simplified and streamlined program coding\n",
    "-Improvised GUI responsiveness\n",
    "-Simultaneous and parallelized occurrence of tasks\n",
    "-Better use of cache storage by utilization of resources\n",
    "-Decreased cost of maintenance\n",
    "-Better use of CPU resource\n",
    "\n",
    "\n",
    "*Multithreading does not only provide you with benefits, it has its disadvantages too. Let us go through some common disadvantages:\n",
    "\n",
    "-Complex debugging and testing processes\n",
    "-Overhead switching of context\n",
    "-Increased potential for deadlock occurrence\n",
    "-Increased difficulty level in writing a program\n",
    "-Unpredictable results\n"
   ]
  },
  {
   "cell_type": "markdown",
   "id": "57640fca-c0c1-4905-bb5c-ad508c864cd9",
   "metadata": {},
   "source": [
    "Q6. Explain deadlocks and race conditions."
   ]
  },
  {
   "cell_type": "markdown",
   "id": "276afccd-6584-470b-bea6-49af36ed091b",
   "metadata": {},
   "source": [
    "1 := deadlock. \n",
    "        Two threads hold locks on different resources, each waiting indefinitely for the other to release its lock.\n",
    "2 := race condition. \n",
    "        Two (or more) threads alter the state of a shared resource concurrently, leaving it in an unpredictable state."
   ]
  }
 ],
 "metadata": {
  "kernelspec": {
   "display_name": "Python 3 (ipykernel)",
   "language": "python",
   "name": "python3"
  },
  "language_info": {
   "codemirror_mode": {
    "name": "ipython",
    "version": 3
   },
   "file_extension": ".py",
   "mimetype": "text/x-python",
   "name": "python",
   "nbconvert_exporter": "python",
   "pygments_lexer": "ipython3",
   "version": "3.10.8"
  }
 },
 "nbformat": 4,
 "nbformat_minor": 5
}
