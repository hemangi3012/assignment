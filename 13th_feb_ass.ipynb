{
 "cells": [
  {
   "cell_type": "markdown",
   "id": "9f42026a-bea1-4834-b577-abdc1a9d80c1",
   "metadata": {},
   "source": [
    "QUESTION 1 : Explain why we have to use the Exception class while creating a Custom Exception."
   ]
  },
  {
   "cell_type": "code",
   "execution_count": null,
   "id": "95029b0a-2f9c-4f29-86dc-85569a60862d",
   "metadata": {},
   "outputs": [],
   "source": [
    "you would want to use a Custom Exception class for the following reasons.\n",
    "\n",
    "To improve readability of your code.\n",
    "To enhance reusability of features.\n",
    "To provide custom messages/instructions to users for specific use cases."
   ]
  },
  {
   "cell_type": "markdown",
   "id": "086923c3-a20c-4184-8ed0-81cd632c7e46",
   "metadata": {},
   "source": [
    "QUESTION 2 :  Write a python program to print Python Exception Hierarchy. "
   ]
  },
  {
   "cell_type": "code",
   "execution_count": 2,
   "id": "d7738302-1c4f-4826-a322-97ebd956d4d3",
   "metadata": {},
   "outputs": [
    {
     "name": "stdout",
     "output_type": "stream",
     "text": [
      "The Hierarchy for inbuilt exceptions is: \n"
     ]
    },
    {
     "ename": "AttributeError",
     "evalue": "type object 'BaseException' has no attribute '_name_'",
     "output_type": "error",
     "traceback": [
      "\u001b[0;31m---------------------------------------------------------------------------\u001b[0m",
      "\u001b[0;31mAttributeError\u001b[0m                            Traceback (most recent call last)",
      "Cell \u001b[0;32mIn[2], line 24\u001b[0m\n\u001b[1;32m     21\u001b[0m ipt\u001b[38;5;241m.\u001b[39mgetclasstree(ipt\u001b[38;5;241m.\u001b[39mgetmro(\u001b[38;5;167;01mBaseException\u001b[39;00m))  \n\u001b[1;32m     23\u001b[0m \u001b[38;5;66;03m# function call  \u001b[39;00m\n\u001b[0;32m---> 24\u001b[0m \u001b[43mtree_class\u001b[49m\u001b[43m(\u001b[49m\u001b[38;5;167;43;01mBaseException\u001b[39;49;00m\u001b[43m)\u001b[49m\n",
      "Cell \u001b[0;32mIn[2], line 9\u001b[0m, in \u001b[0;36mtree_class\u001b[0;34m(cls, ind)\u001b[0m\n\u001b[1;32m      6\u001b[0m \u001b[38;5;28;01mdef\u001b[39;00m \u001b[38;5;21mtree_class\u001b[39m(\u001b[38;5;28mcls\u001b[39m, ind \u001b[38;5;241m=\u001b[39m \u001b[38;5;241m0\u001b[39m):  \n\u001b[1;32m      7\u001b[0m       \n\u001b[1;32m      8\u001b[0m       \u001b[38;5;66;03m# Then we will print the name of the class  \u001b[39;00m\n\u001b[0;32m----> 9\u001b[0m     \u001b[38;5;28mprint\u001b[39m (\u001b[38;5;124m'\u001b[39m\u001b[38;5;124m-\u001b[39m\u001b[38;5;124m'\u001b[39m \u001b[38;5;241m*\u001b[39m ind, \u001b[38;5;28;43mcls\u001b[39;49m\u001b[38;5;241;43m.\u001b[39;49m\u001b[43m_name_\u001b[49m)  \n\u001b[1;32m     11\u001b[0m     \u001b[38;5;66;03m# now, we will iterate through the subclasses  \u001b[39;00m\n\u001b[1;32m     12\u001b[0m     \u001b[38;5;28;01mfor\u001b[39;00m K \u001b[38;5;129;01min\u001b[39;00m \u001b[38;5;28mcls\u001b[39m\u001b[38;5;241m.\u001b[39m_subclasses_():  \n",
      "\u001b[0;31mAttributeError\u001b[0m: type object 'BaseException' has no attribute '_name_'"
     ]
    }
   ],
   "source": [
    "# For printing the hierarchy for inbuilt exceptions:  \n",
    "# First, we will import the inspect module  \n",
    "import inspect as ipt  \n",
    "    \n",
    "# Then we will create tree_class function  \n",
    "def tree_class(cls, ind = 0):  \n",
    "      \n",
    "      # Then we will print the name of the class  \n",
    "    print ('-' * ind, cls._name_)  \n",
    "        \n",
    "    # now, we will iterate through the subclasses  \n",
    "    for K in cls._subclasses_():  \n",
    "        tree_class(K, ind + 3)  \n",
    "    \n",
    "print (\"The Hierarchy for inbuilt exceptions is: \")  \n",
    "    \n",
    "# THE inspect.getmro() will return the tuple   \n",
    "# of class  which is cls's base classes.  \n",
    "    \n",
    "#Now, we will build a tree hierarchy   \n",
    "ipt.getclasstree(ipt.getmro(BaseException))  \n",
    "    \n",
    "# function call  \n",
    "tree_class(BaseException)"
   ]
  },
  {
   "cell_type": "markdown",
   "id": "66b82afe-13d5-45d7-8905-8b615a5889f0",
   "metadata": {},
   "source": [
    "QUESTION 3 :What errors are defined in the ArithmeticError class? Explain any two with an example.\n"
   ]
  },
  {
   "cell_type": "code",
   "execution_count": null,
   "id": "2f933a56-397c-49ff-8f97-dd59a1e1f873",
   "metadata": {},
   "outputs": [],
   "source": [
    "==> ZeroDivisionError,OverFlowError,FloatingPointError  are defined in the arithmeticError class.\n",
    "\n",
    "EXAMPLE  1 := \n",
    "try:\n",
    "    10/0\n",
    "except Exception as e :\n",
    "    print(e)\n",
    "\n",
    "EXAMPLE 2 := \n",
    "j = 5.0\n",
    "\n",
    "try:\n",
    "    for i in range(1, 1000):\n",
    "        j = j**i\n",
    "except ArithmeticError as e:\n",
    "    print(f\"{e}, {e._class_}\")"
   ]
  },
  {
   "cell_type": "markdown",
   "id": "28e61152-6771-4644-a0d3-9763b15cc779",
   "metadata": {},
   "source": [
    "QUESTION 4 : Why LookupError class is used? Explain with an example KeyError and IndexError.\n"
   ]
  },
  {
   "cell_type": "markdown",
   "id": "bfcd7400-4669-4366-85f2-458484e549ca",
   "metadata": {},
   "source": [
    "LookupError Exception is the Base class for errors raised when something can’t be found. The base class for the exceptions that are raised when a key or index used on a mapping or sequence is invalid: IndexError, KeyError.\n",
    "\n",
    "An IndexError is raised when a sequence reference is out of range.\n",
    "\n",
    "\n",
    "1. KEYERROR := Python KeyError is raised when we try to access a key from dict, which doesn’t exist. It’s one of the built-in exception classes and raised by many modules that work with dict or objects having key-value pairs.\n",
    "try :\n",
    "    d={\"key\":\"sudh\",1:[2,3,4,56]}\n",
    "    print(d[\"key2\"])\n",
    "except KeyError as e:\n",
    "    print(e)\n",
    "    \n",
    "2.INDEXERROR := The IndexError exception in Python means that you are trying to access an index that doesn’t exist. For example you are trying to access the 5th index of a list, but there are only 4 elements present. It is part of the LookupError Exception class.\n",
    "\n",
    "This error can happen with any object that is indexable, like - Lists, Tuples, Strings etc.\n",
    "try :\n",
    "    l=[2,3,4,55,6]\n",
    "    l[6]\n",
    "except IndexError as e:\n",
    "    print(e)"
   ]
  },
  {
   "cell_type": "markdown",
   "id": "4686b553-3be4-4a19-ba9c-da622c68e732",
   "metadata": {},
   "source": [
    "QUESTION 5: Explain ImportError. What is ModuleNotFoundError?\n"
   ]
  },
  {
   "cell_type": "markdown",
   "id": "e047b792-4a74-4254-bbe4-5317efe9171a",
   "metadata": {},
   "source": [
    "ImportError is raised when a module, or member of a module, cannot be imported. There are a two conditions where an ImportError might be raised.\n",
    "A ModuleNotFoundError is raised when Python cannot successfully import a module.\n",
    "\n",
    "The full error message looks something like this:\n",
    "\n",
    "ModuleNotFoundError: No module named 'your_module_name'\n",
    "This error is encountered when you forget to install a dependency for a project. Because you haven’t installed the dependency, Python does not know where to locate it.\n",
    "\n",
    "ModuleNotFoundErrors come up in user-defined modules. Often, this error is caused by importing files relatively when doing so is not allowed."
   ]
  },
  {
   "cell_type": "markdown",
   "id": "7f981cb2-ab54-47e1-9d9d-267bc7a00db9",
   "metadata": {},
   "source": [
    "QUESTION 6:  List down some best practices for exception handling in python."
   ]
  },
  {
   "cell_type": "code",
   "execution_count": null,
   "id": "67930126-c0dd-4563-b44a-fa58b7355260",
   "metadata": {},
   "outputs": [],
   "source": [
    "use always a specific exception\n",
    "print alway a proper message \n",
    "always try to log your error\n",
    "always avoid to write a multiple exception handling \n",
    " Document all the error \n",
    "cleanup all the resources"
   ]
  }
 ],
 "metadata": {
  "kernelspec": {
   "display_name": "Python 3 (ipykernel)",
   "language": "python",
   "name": "python3"
  },
  "language_info": {
   "codemirror_mode": {
    "name": "ipython",
    "version": 3
   },
   "file_extension": ".py",
   "mimetype": "text/x-python",
   "name": "python",
   "nbconvert_exporter": "python",
   "pygments_lexer": "ipython3",
   "version": "3.10.8"
  }
 },
 "nbformat": 4,
 "nbformat_minor": 5
}
