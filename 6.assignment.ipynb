{
 "cells": [
  {
   "cell_type": "markdown",
   "id": "20af9cdd-3ae5-466c-b114-f45d60a6768d",
   "metadata": {},
   "source": [
    "Q1. Explain Class and Object with respect to Object-Oriented Programming. Give a suitable example.\n"
   ]
  },
  {
   "cell_type": "markdown",
   "id": "96428c46-7419-4992-a0c9-a17bd0c4bae0",
   "metadata": {},
   "source": [
    "class:=\n",
    "A class is considered as a blueprint of objects. We can think of the class as a sketch (prototype) of a house.\n",
    "It contains all the details about the floors, doors, windows, etc. Based on these descriptions we build the house. House is the object.\n",
    "\n",
    "Since many houses can be made from the same description, we can create many objects from a class.\n",
    "We use the class keyword to create a class in Python.\n",
    "For example,\n",
    "\n",
    "class ClassName:\n",
    "    # class definition \n",
    "Here, we have created a class named ClassName.\n",
    "\n",
    "Let's see an example,\n",
    "\n",
    "class Bike:\n",
    "    name = \"\"\n",
    "    gear = 0\n",
    "    \n",
    "object:= \n",
    "An object is called an instance of a class. For example, suppose Bike is a class then we can create objects like bike1, bike2, etc from the class.\n",
    "\n",
    "Here's the syntax to create an object.\n",
    "objectName = ClassName()\n",
    "Let's see an example,\n",
    "\n",
    "# create class\n",
    "class Bike:\n",
    "    name = \"\"\n",
    "    gear = 0\n",
    "\n",
    "# create objects of class\n",
    "bike1 = Bike()"
   ]
  },
  {
   "cell_type": "markdown",
   "id": "e9510f65-a31f-4216-abec-afc75173da46",
   "metadata": {},
   "source": [
    "Question 2:= "
   ]
  },
  {
   "cell_type": "markdown",
   "id": "94cfca77-10a6-4728-bd43-dbf5f85b7a88",
   "metadata": {},
   "source": [
    " Name the four pillars of OOPs is\n",
    "    1.INheritance\n",
    "    2.polymorphism\n",
    "    3.encapsulation\n",
    "    4.Abstraction\n"
   ]
  },
  {
   "cell_type": "markdown",
   "id": "bd66fdc0-b7b8-4b1e-a9f7-656ba5b85552",
   "metadata": {},
   "source": [
    "Question 3:= "
   ]
  },
  {
   "cell_type": "markdown",
   "id": "5a86882d-8a8d-4bce-a25c-fc167a64ebd2",
   "metadata": {},
   "source": [
    "The examples above are classes and objects in their simplest form, and are not really useful in real life applications. To understand the meaning of classes we have to understand the built-in _init() function. All classes have a function called __init_(), which is always executed when the class is being initiated.\n",
    "Example:= \n",
    "class Person:\n",
    "  def _init_(self, name, age):\n",
    "    self.name = name\n",
    "    self.age = age\n",
    "\n",
    "p1 = Person(\"John\", 36)\n",
    "\n",
    "print(p1.name)\n",
    "print(p1.age)"
   ]
  },
  {
   "cell_type": "markdown",
   "id": "9ac2dcbd-0695-4dee-a2f8-7bfbff77299c",
   "metadata": {},
   "source": [
    "*Question 4 := "
   ]
  },
  {
   "cell_type": "markdown",
   "id": "a7162f6f-e489-48b6-adac-fd2a26540d80",
   "metadata": {},
   "source": [
    "The self variable is used to represent the instance of the class which is often used in object-oriented programming. It works as a reference to the object. Python uses the self parameter to refer to instance attributes and methods of the class."
   ]
  },
  {
   "cell_type": "markdown",
   "id": "6121afb1-b753-4a84-8744-24d27734f1f8",
   "metadata": {},
   "source": [
    "*Question 5:= "
   ]
  },
  {
   "cell_type": "markdown",
   "id": "1ddb5cab-5d5e-4ab2-85ee-af5f61eb83a8",
   "metadata": {},
   "source": [
    "Inheritance is a mechanism in which one class acquires the property of another class. For example, a child inherits the traits of his/her parents. With inheritance, we can reuse the fields and methods of the existing class. Hence, inheritance facilitates Reusability and is an important concept of OOPs.\n",
    "\n",
    "Inheritance is a process of obtaining properties and characteristics(variables and methods) of another class. In this hierarchical order, the class which inherits another class is called subclass or child class, and the other class is the parent class\n"
   ]
  }
 ],
 "metadata": {
  "kernelspec": {
   "display_name": "Python 3 (ipykernel)",
   "language": "python",
   "name": "python3"
  },
  "language_info": {
   "codemirror_mode": {
    "name": "ipython",
    "version": 3
   },
   "file_extension": ".py",
   "mimetype": "text/x-python",
   "name": "python",
   "nbconvert_exporter": "python",
   "pygments_lexer": "ipython3",
   "version": "3.10.8"
  }
 },
 "nbformat": 4,
 "nbformat_minor": 5
}
